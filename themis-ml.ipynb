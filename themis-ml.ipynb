{
 "cells": [
  {
   "cell_type": "code",
   "execution_count": 39,
   "metadata": {},
   "outputs": [],
   "source": [
    "import pandas as pd\n",
    "import numpy as np"
   ]
  },
  {
   "cell_type": "code",
   "execution_count": 40,
   "metadata": {},
   "outputs": [],
   "source": [
    "data = pd.read_csv(\"data.csv\")"
   ]
  },
  {
   "cell_type": "code",
   "execution_count": 41,
   "metadata": {},
   "outputs": [
    {
     "data": {
      "text/plain": [
       "2586531"
      ]
     },
     "execution_count": 41,
     "metadata": {},
     "output_type": "execute_result"
    }
   ],
   "source": [
    "len(data)"
   ]
  },
  {
   "cell_type": "code",
   "execution_count": 81,
   "metadata": {},
   "outputs": [
    {
     "data": {
      "text/html": [
       "<div>\n",
       "<style scoped>\n",
       "    .dataframe tbody tr th:only-of-type {\n",
       "        vertical-align: middle;\n",
       "    }\n",
       "\n",
       "    .dataframe tbody tr th {\n",
       "        vertical-align: top;\n",
       "    }\n",
       "\n",
       "    .dataframe thead th {\n",
       "        text-align: right;\n",
       "    }\n",
       "</style>\n",
       "<table border=\"1\" class=\"dataframe\">\n",
       "  <thead>\n",
       "    <tr style=\"text-align: right;\">\n",
       "      <th></th>\n",
       "      <th>Unnamed: 0</th>\n",
       "      <th>YEAR</th>\n",
       "      <th>LOAN_TYPE</th>\n",
       "      <th>PROP_TYPE</th>\n",
       "      <th>PURPOSE</th>\n",
       "      <th>OCCUPANCY</th>\n",
       "      <th>AMNT</th>\n",
       "      <th>PRE_APP</th>\n",
       "      <th>ACTION</th>\n",
       "      <th>MA</th>\n",
       "      <th>...</th>\n",
       "      <th>MINPOPCH</th>\n",
       "      <th>MED_INCCH</th>\n",
       "      <th>TCT2MSACH</th>\n",
       "      <th>OWNOCCCH</th>\n",
       "      <th>OWNOCC4CH</th>\n",
       "      <th>action</th>\n",
       "      <th>female</th>\n",
       "      <th>hispanic</th>\n",
       "      <th>black</th>\n",
       "      <th>co_black</th>\n",
       "    </tr>\n",
       "  </thead>\n",
       "  <tbody>\n",
       "    <tr>\n",
       "      <th>0</th>\n",
       "      <td>0</td>\n",
       "      <td>2014</td>\n",
       "      <td>1</td>\n",
       "      <td>1</td>\n",
       "      <td>1</td>\n",
       "      <td>2</td>\n",
       "      <td>210</td>\n",
       "      <td>3</td>\n",
       "      <td>1</td>\n",
       "      <td>1</td>\n",
       "      <td>...</td>\n",
       "      <td>52.31</td>\n",
       "      <td>84900.0</td>\n",
       "      <td>58.72</td>\n",
       "      <td>149.0</td>\n",
       "      <td>327.0</td>\n",
       "      <td>1</td>\n",
       "      <td>0</td>\n",
       "      <td>0</td>\n",
       "      <td>0</td>\n",
       "      <td>0</td>\n",
       "    </tr>\n",
       "    <tr>\n",
       "      <th>1</th>\n",
       "      <td>3</td>\n",
       "      <td>2014</td>\n",
       "      <td>1</td>\n",
       "      <td>1</td>\n",
       "      <td>3</td>\n",
       "      <td>1</td>\n",
       "      <td>91</td>\n",
       "      <td>3</td>\n",
       "      <td>1</td>\n",
       "      <td>1</td>\n",
       "      <td>...</td>\n",
       "      <td>46.12</td>\n",
       "      <td>84900.0</td>\n",
       "      <td>86.38</td>\n",
       "      <td>2152.0</td>\n",
       "      <td>3002.0</td>\n",
       "      <td>1</td>\n",
       "      <td>0</td>\n",
       "      <td>0</td>\n",
       "      <td>0</td>\n",
       "      <td>0</td>\n",
       "    </tr>\n",
       "    <tr>\n",
       "      <th>2</th>\n",
       "      <td>4</td>\n",
       "      <td>2014</td>\n",
       "      <td>1</td>\n",
       "      <td>1</td>\n",
       "      <td>2</td>\n",
       "      <td>1</td>\n",
       "      <td>85</td>\n",
       "      <td>3</td>\n",
       "      <td>1</td>\n",
       "      <td>1</td>\n",
       "      <td>...</td>\n",
       "      <td>37.34</td>\n",
       "      <td>84900.0</td>\n",
       "      <td>111.17</td>\n",
       "      <td>1892.0</td>\n",
       "      <td>2177.0</td>\n",
       "      <td>1</td>\n",
       "      <td>0</td>\n",
       "      <td>0</td>\n",
       "      <td>0</td>\n",
       "      <td>0</td>\n",
       "    </tr>\n",
       "    <tr>\n",
       "      <th>3</th>\n",
       "      <td>5</td>\n",
       "      <td>2014</td>\n",
       "      <td>1</td>\n",
       "      <td>1</td>\n",
       "      <td>1</td>\n",
       "      <td>1</td>\n",
       "      <td>301</td>\n",
       "      <td>1</td>\n",
       "      <td>1</td>\n",
       "      <td>1</td>\n",
       "      <td>...</td>\n",
       "      <td>44.27</td>\n",
       "      <td>84900.0</td>\n",
       "      <td>87.68</td>\n",
       "      <td>1734.0</td>\n",
       "      <td>1829.0</td>\n",
       "      <td>1</td>\n",
       "      <td>1</td>\n",
       "      <td>0</td>\n",
       "      <td>0</td>\n",
       "      <td>0</td>\n",
       "    </tr>\n",
       "    <tr>\n",
       "      <th>4</th>\n",
       "      <td>7</td>\n",
       "      <td>2014</td>\n",
       "      <td>1</td>\n",
       "      <td>1</td>\n",
       "      <td>3</td>\n",
       "      <td>1</td>\n",
       "      <td>245</td>\n",
       "      <td>3</td>\n",
       "      <td>1</td>\n",
       "      <td>1</td>\n",
       "      <td>...</td>\n",
       "      <td>17.51</td>\n",
       "      <td>84900.0</td>\n",
       "      <td>129.43</td>\n",
       "      <td>3080.0</td>\n",
       "      <td>3541.0</td>\n",
       "      <td>1</td>\n",
       "      <td>0</td>\n",
       "      <td>0</td>\n",
       "      <td>0</td>\n",
       "      <td>0</td>\n",
       "    </tr>\n",
       "  </tbody>\n",
       "</table>\n",
       "<p>5 rows × 33 columns</p>\n",
       "</div>"
      ],
      "text/plain": [
       "   Unnamed: 0  YEAR  LOAN_TYPE  PROP_TYPE  PURPOSE  OCCUPANCY  AMNT  PRE_APP  \\\n",
       "0           0  2014          1          1        1          2   210        3   \n",
       "1           3  2014          1          1        3          1    91        3   \n",
       "2           4  2014          1          1        2          1    85        3   \n",
       "3           5  2014          1          1        1          1   301        1   \n",
       "4           7  2014          1          1        3          1   245        3   \n",
       "\n",
       "   ACTION  MA    ...     MINPOPCH  MED_INCCH  TCT2MSACH  OWNOCCCH  OWNOCC4CH  \\\n",
       "0       1   1    ...        52.31    84900.0      58.72     149.0      327.0   \n",
       "1       1   1    ...        46.12    84900.0      86.38    2152.0     3002.0   \n",
       "2       1   1    ...        37.34    84900.0     111.17    1892.0     2177.0   \n",
       "3       1   1    ...        44.27    84900.0      87.68    1734.0     1829.0   \n",
       "4       1   1    ...        17.51    84900.0     129.43    3080.0     3541.0   \n",
       "\n",
       "   action  female  hispanic  black  co_black  \n",
       "0       1       0         0      0         0  \n",
       "1       1       0         0      0         0  \n",
       "2       1       0         0      0         0  \n",
       "3       1       1         0      0         0  \n",
       "4       1       0         0      0         0  \n",
       "\n",
       "[5 rows x 33 columns]"
      ]
     },
     "execution_count": 81,
     "metadata": {},
     "output_type": "execute_result"
    },
    {
     "name": "stdout",
     "output_type": "stream",
     "text": [
      "\n"
     ]
    }
   ],
   "source": [
    "data.head()"
   ]
  },
  {
   "cell_type": "code",
   "execution_count": 103,
   "metadata": {},
   "outputs": [
    {
     "name": "stdout",
     "output_type": "stream",
     "text": [
      "\n"
     ]
    }
   ],
   "source": [
    "df = data.sample(frac=0.01)"
   ]
  },
  {
   "cell_type": "code",
   "execution_count": 104,
   "metadata": {},
   "outputs": [
    {
     "data": {
      "text/plain": [
       "25865"
      ]
     },
     "execution_count": 104,
     "metadata": {},
     "output_type": "execute_result"
    }
   ],
   "source": [
    "len(df)"
   ]
  },
  {
   "cell_type": "code",
   "execution_count": 105,
   "metadata": {
    "scrolled": true
   },
   "outputs": [
    {
     "data": {
      "text/plain": [
       "Index([u'Unnamed: 0', u'YEAR', u'LOAN_TYPE', u'PROP_TYPE', u'PURPOSE',\n",
       "       u'OCCUPANCY', u'AMNT', u'PRE_APP', u'ACTION', u'MA', u'STATE',\n",
       "       u'COUNTY', u'TRACT', u'APP_ETH', u'COAPP_ETH', u'APP_RACE1',\n",
       "       u'COAP_RACE1', u'APP_SEX', u'COAP_SEX', u'APP_INCCH', u'PURCHTYPE',\n",
       "       u'HOEPA', u'POPCH', u'MINPOPCH', u'MED_INCCH', u'TCT2MSACH',\n",
       "       u'OWNOCCCH', u'OWNOCC4CH', u'action', u'female', u'hispanic', u'black',\n",
       "       u'co_black'],\n",
       "      dtype='object')"
      ]
     },
     "execution_count": 105,
     "metadata": {},
     "output_type": "execute_result"
    }
   ],
   "source": [
    "df.columns.unique()"
   ]
  },
  {
   "cell_type": "code",
   "execution_count": 106,
   "metadata": {},
   "outputs": [],
   "source": [
    "df[\"american_indian\"] = df[\"APP_RACE1\"].apply(lambda x: 1 if x == 1 else 0)\n",
    "indian = df[\"american_indian\"].apply(lambda x: 1 if x == 1 else 0)"
   ]
  },
  {
   "cell_type": "markdown",
   "metadata": {},
   "source": [
    "## Measure Social Bias"
   ]
  },
  {
   "cell_type": "markdown",
   "metadata": {},
   "source": [
    "### target variavle: action"
   ]
  },
  {
   "cell_type": "code",
   "execution_count": 107,
   "metadata": {},
   "outputs": [
    {
     "data": {
      "text/plain": [
       "1    20519\n",
       "0     5346\n",
       "Name: action, dtype: int64"
      ]
     },
     "execution_count": 107,
     "metadata": {},
     "output_type": "execute_result"
    }
   ],
   "source": [
    "action = df.action\n",
    "action.value_counts()"
   ]
  },
  {
   "cell_type": "markdown",
   "metadata": {},
   "source": [
    "### protected class: female"
   ]
  },
  {
   "cell_type": "code",
   "execution_count": 108,
   "metadata": {},
   "outputs": [
    {
     "data": {
      "text/plain": [
       "0    18186\n",
       "1     7679\n",
       "Name: female, dtype: int64"
      ]
     },
     "execution_count": 108,
     "metadata": {},
     "output_type": "execute_result"
    }
   ],
   "source": [
    "female = df.female\n",
    "female.value_counts()"
   ]
  },
  {
   "cell_type": "code",
   "execution_count": 109,
   "metadata": {},
   "outputs": [],
   "source": [
    "from themis_ml.metrics import mean_difference, normalized_mean_difference, \\\n",
    "    mean_confidence_interval"
   ]
  },
  {
   "cell_type": "code",
   "execution_count": 110,
   "metadata": {},
   "outputs": [
    {
     "name": "stdout",
     "output_type": "stream",
     "text": [
      "mean difference: 4.16 - 95% CI [3.09, 5.24]\n",
      "normalized mean difference: 5.98 - 95% CI [4.90, 7.06]\n"
     ]
    }
   ],
   "source": [
    "def report_metric(metric, mean_diff, lower, upper):\n",
    "    print(\"{metric}: {md:0.02f} - 95% CI [{lower:0.02f}, {upper:0.02f}]\"\n",
    "          .format(metric=metric, md=mean_diff, lower=lower, upper=upper))\n",
    "\n",
    "report_metric(\n",
    "    \"mean difference\",\n",
    "    *map(lambda x: x * 100, mean_difference(action, female)))\n",
    "report_metric(\n",
    "    \"normalized mean difference\",\n",
    "    *map(lambda x: x * 100, normalized_mean_difference(action, female)))"
   ]
  },
  {
   "cell_type": "markdown",
   "metadata": {},
   "source": [
    "### protected class: black "
   ]
  },
  {
   "cell_type": "code",
   "execution_count": 111,
   "metadata": {},
   "outputs": [],
   "source": [
    "# advantaged group: the others\n",
    "# disadvantaged group: black "
   ]
  },
  {
   "cell_type": "code",
   "execution_count": 112,
   "metadata": {},
   "outputs": [
    {
     "data": {
      "text/plain": [
       "0    23999\n",
       "1     1866\n",
       "Name: black, dtype: int64"
      ]
     },
     "execution_count": 112,
     "metadata": {},
     "output_type": "execute_result"
    }
   ],
   "source": [
    "black = df.black\n",
    "black.value_counts()"
   ]
  },
  {
   "cell_type": "code",
   "execution_count": 113,
   "metadata": {},
   "outputs": [
    {
     "name": "stdout",
     "output_type": "stream",
     "text": [
      "mean difference: 17.00 - 95% CI [15.10, 18.90]\n",
      "normalized mean difference: 19.88 - 95% CI [17.99, 21.78]\n"
     ]
    }
   ],
   "source": [
    "report_metric(\n",
    "    \"mean difference\",\n",
    "    *map(lambda x: x * 100, mean_difference(action, black)))\n",
    "report_metric(\n",
    "    \"normalized mean difference\",\n",
    "    *map(lambda x: x * 100, normalized_mean_difference(action, black)))"
   ]
  },
  {
   "cell_type": "markdown",
   "metadata": {},
   "source": [
    "### protected class: hispanic"
   ]
  },
  {
   "cell_type": "code",
   "execution_count": 114,
   "metadata": {},
   "outputs": [],
   "source": [
    "# advantaged group: non-hispanic\n",
    "# disadvantaged group: hispanic "
   ]
  },
  {
   "cell_type": "code",
   "execution_count": 117,
   "metadata": {},
   "outputs": [
    {
     "data": {
      "text/plain": [
       "0    22300\n",
       "1     3565\n",
       "Name: hispanic, dtype: int64"
      ]
     },
     "execution_count": 117,
     "metadata": {},
     "output_type": "execute_result"
    }
   ],
   "source": [
    "hispanic = df.hispanic\n",
    "hispanic.value_counts()"
   ]
  },
  {
   "cell_type": "code",
   "execution_count": 118,
   "metadata": {},
   "outputs": [
    {
     "name": "stdout",
     "output_type": "stream",
     "text": [
      "mean difference: 3.88 - 95% CI [2.45, 5.31]\n",
      "normalized mean difference: 4.21 - 95% CI [2.78, 5.64]\n"
     ]
    }
   ],
   "source": [
    "report_metric(\n",
    "    \"mean difference\",\n",
    "    *map(lambda x: x * 100, mean_difference(action, hispanic)))\n",
    "report_metric(\n",
    "    \"normalized mean difference\",\n",
    "    *map(lambda x: x * 100, normalized_mean_difference(action, hispanic)))"
   ]
  },
  {
   "cell_type": "markdown",
   "metadata": {},
   "source": [
    "## protected class: american indian"
   ]
  },
  {
   "cell_type": "code",
   "execution_count": 119,
   "metadata": {},
   "outputs": [],
   "source": [
    "# advantaged group: the others\n",
    "# disadvantaged group: american indian "
   ]
  },
  {
   "cell_type": "code",
   "execution_count": 120,
   "metadata": {},
   "outputs": [
    {
     "data": {
      "text/plain": [
       "0    25649\n",
       "1      216\n",
       "Name: american_indian, dtype: int64"
      ]
     },
     "execution_count": 120,
     "metadata": {},
     "output_type": "execute_result"
    }
   ],
   "source": [
    "american_indian = df['american_indian']\n",
    "american_indian.value_counts()"
   ]
  },
  {
   "cell_type": "code",
   "execution_count": 121,
   "metadata": {},
   "outputs": [
    {
     "name": "stdout",
     "output_type": "stream",
     "text": [
      "mean difference: 9.97 - 95% CI [4.55, 15.39]\n",
      "normalized mean difference: 12.46 - 95% CI [7.04, 17.88]\n"
     ]
    }
   ],
   "source": [
    "report_metric(\n",
    "    \"mean difference\",\n",
    "    *map(lambda x: x * 100, mean_difference(action, american_indian)))\n",
    "report_metric(\n",
    "    \"normalized mean difference\",\n",
    "    *map(lambda x: x * 100, normalized_mean_difference(action, american_indian)))"
   ]
  },
  {
   "cell_type": "markdown",
   "metadata": {},
   "source": [
    "## Establish Baseline Metrics"
   ]
  },
  {
   "cell_type": "code",
   "execution_count": 122,
   "metadata": {},
   "outputs": [],
   "source": [
    "import itertools\n",
    "import numpy as np\n",
    "import pandas as pd\n",
    "\n",
    "from sklearn.model_selection import StratifiedKFold, RepeatedStratifiedKFold\n",
    "from sklearn.linear_model import LogisticRegression\n",
    "from sklearn.tree import DecisionTreeClassifier\n",
    "from sklearn.ensemble import RandomForestClassifier\n",
    "from sklearn.neural_network import MLPClassifier\n",
    "\n",
    "from sklearn.metrics import (\n",
    "    accuracy_score, roc_auc_score, f1_score)"
   ]
  },
  {
   "cell_type": "code",
   "execution_count": 123,
   "metadata": {},
   "outputs": [],
   "source": [
    "features = [\n",
    "        'YEAR','LOAN_TYPE','PROP_TYPE','PURPOSE','OCCUPANCY','AMNT','PRE_APP','MA','STATE',\n",
    "        'COUNTY','TRACT','APP_ETH','COAPP_ETH','APP_RACE1','COAP_RACE1','APP_SEX','COAP_SEX',\n",
    "        'APP_INCCH','PURCHTYPE','HOEPA','POPCH','MINPOPCH','MED_INCCH','TCT2MSACH','OWNOCCCH',\n",
    "        'OWNOCC4CH'\n",
    "]"
   ]
  },
  {
   "cell_type": "code",
   "execution_count": 124,
   "metadata": {},
   "outputs": [],
   "source": [
    "N_SPLITS = 10\n",
    "N_REPEATS = 5\n",
    "RANDOM_STATE = 1000\n",
    "\n",
    "def get_estimator_name(e):\n",
    "    return \"\".join([x for x in str(type(e)).split(\".\")[-1]\n",
    "                    if x.isalpha()])\n",
    "\n",
    "\n",
    "def get_grid_params(grid_params_dict):\n",
    "    \"\"\"Get outer product of grid search parameters.\"\"\"\n",
    "    return [\n",
    "        dict(params) for params in itertools.product(\n",
    "            *[[(k, v_i) for v_i in v] for\n",
    "              k, v in grid_params_dict.items()])]\n",
    "\n",
    "\n",
    "def fit_with_s(estimator):\n",
    "    has_relabeller = getattr(estimator, \"relabeller\", None) is not None\n",
    "    child_estimator = getattr(estimator, \"estimator\", None)\n",
    "    estimator_fit_with_s = getattr(estimator, \"S_ON_FIT\", False)\n",
    "    child_estimator_fit_with_s = getattr(child_estimator, \"S_ON_FIT\", False)\n",
    "    return has_relabeller or estimator_fit_with_s or\\\n",
    "        child_estimator_fit_with_s\n",
    "    \n",
    "    \n",
    "def predict_with_s(estimator):\n",
    "    estimator_pred_with_s = getattr(estimator, \"S_ON_PREDICT\", False)\n",
    "    child_estimator = getattr(estimator, \"estimator\", None)\n",
    "    return estimator_pred_with_s or \\\n",
    "        getattr(child_estimator, \"S_ON_PREDICT\", False)\n",
    "\n",
    "def cross_validation_experiment(estimators, X, y, s, s_name, verbose=True):\n",
    "    msg = \"Training models: protected_class = %s\" % s_name\n",
    "    if verbose:\n",
    "        print(msg)\n",
    "        print(\"-\" * len(msg))\n",
    "    performance_scores = []\n",
    "    # stratified groups tries to balance out y and s\n",
    "    groups = [i + j for i, j in\n",
    "              zip(y.astype(str), s.astype(str))]\n",
    "    cv = RepeatedStratifiedKFold(\n",
    "        n_splits=N_SPLITS,\n",
    "        n_repeats=N_REPEATS,\n",
    "        random_state=RANDOM_STATE)\n",
    "    for e_name, e in estimators:\n",
    "        if verbose:\n",
    "            print(\"%s, fold:\" % e_name),\n",
    "        for i, (train, test) in enumerate(cv.split(X, y, groups=groups)):\n",
    "            if verbose:\n",
    "                print(i),\n",
    "            # create train and validation fold partitions\n",
    "            X_train, X_test = X[train], X[test]\n",
    "            y_train, y_test = y[train], y[test]\n",
    "            s_train, s_test = s[train], s[test]\n",
    "\n",
    "            # fit model and generate train and test predictions\n",
    "            if fit_with_s(e):\n",
    "                e.fit(X_train, y_train, s_train)\n",
    "            else:\n",
    "                e.fit(X_train, y_train)\n",
    "                \n",
    "            train_pred_args = (X_train, s_train) if predict_with_s(e) \\\n",
    "                else (X_train, )\n",
    "            test_pred_args = (X_test, s_test) if predict_with_s(e) \\\n",
    "                else (X_test, )\n",
    "                \n",
    "            train_pred_prob = e.predict_proba(*train_pred_args)[:, 1]\n",
    "            train_pred = e.predict(*train_pred_args)\n",
    "            test_pred_prob = e.predict_proba(*test_pred_args)[:, 1]\n",
    "            test_pred = e.predict(*test_pred_args)\n",
    "\n",
    "            # train scores\n",
    "            performance_scores.append([\n",
    "                s_name, e_name, i, \"train\",\n",
    "                # regular metrics\n",
    "                roc_auc_score(y_train, train_pred_prob),\n",
    "\n",
    "                # fairness metrics\n",
    "                mean_difference(train_pred, s_train)[0],\n",
    "                normalized_mean_difference(train_pred, s_train)[0]\n",
    "            ])\n",
    "            # test scores\n",
    "            performance_scores.append([\n",
    "                s_name, e_name, i, \"test\",\n",
    "                # regular metrics\n",
    "                roc_auc_score(y_test, test_pred_prob),\n",
    "                # fairness metrics\n",
    "                mean_difference(train_pred, s_train)[0],\n",
    "                normalized_mean_difference(test_pred, s_test)[0]\n",
    "            ])\n",
    "        if verbose:\n",
    "            print(\"\")\n",
    "    if verbose:\n",
    "        print(\"\")\n",
    "    return pd.DataFrame(\n",
    "        performance_scores,\n",
    "        columns=[\n",
    "            \"protected_class\", \"estimator\", \"cv_fold\", \"fold_type\",\n",
    "            \"auc\", \"mean_diff\", \"norm_mean_diff\"])\n",
    "            \n"
   ]
  },
  {
   "cell_type": "code",
   "execution_count": 125,
   "metadata": {},
   "outputs": [
    {
     "name": "stdout",
     "output_type": "stream",
     "text": [
      "Training models: protected_class = female\n",
      "-----------------------------------------\n",
      "LogisticRegression, fold: 0 1 2 3 4 5 6 7 8 9 10 11 12 13 14 15 16 17 18 19 20 21 22 23 24 25 26 27 28 29 30 31 32 33 34 35 36 37 38 39 40 41 42 43 44 45 46 47 48 49 \n",
      "DecisionTree, fold: 0 1 2 3 4 5 6 7 8 9 10 11 12 13 14 15 16 17 18 19 20 21 22 23 24 25 26 27 28 29 30 31 32 33 34 35 36 37 38 39 40 41 42 43 44 45 46 47 48 49 \n",
      "RandomForest, fold: 0 1 2 3 4 5 6 7 8 9 10 11 12 13 14 15 16 17 18 19 20 21 22 23 24 25 26 27 28 29 30 31 32 33 34 35 36 37 38 39 40 41 42 43 44 45 46 47 48 49 \n",
      "\n",
      "Training models: protected_class = black\n",
      "----------------------------------------\n",
      "LogisticRegression, fold: 0 1 2 3 4 5 6 7 8 9 10 11 12 13 14 15 16 17 18 19 20 21 22 23 24 25 26 27 28 29 30 31 32 33 34 35 36 37 38 39 40 41 42 43 44 45 46 47 48 49 \n",
      "DecisionTree, fold: 0 1 2 3 4 5 6 7 8 9 10 11 12 13 14 15 16 17 18 19 20 21 22 23 24 25 26 27 28 29 30 31 32 33 34 35 36 37 38 39 40 41 42 43 44 45 46 47 48 49 \n",
      "RandomForest, fold: 0 1 2 3 4 5 6 7 8 9 10 11 12 13 14 15 16 17 18 19 20 21 22 23 24 25 26 27 28 29 30 31 32 33 34 35 36 37 38 39 40 41 42 43 44 45 46 47 48 49 \n",
      "\n",
      "Training models: protected_class = american_indian\n",
      "--------------------------------------------------\n",
      "LogisticRegression, fold: 0 1 2 3 4 5 6 7 8 9 10 11 12 13 14 15 16 17 18 19 20 21 22 23 24 25 26 27 28 29 30 31 32 33 34 35 36 37 38 39 40 41 42 43 44 45 46 47 48 49 \n",
      "DecisionTree, fold: 0 1 2 3 4 5 6 7 8 9 10 11 12 13 14 15 16 17 18 19 20 21 22 23 24 25 26 27 28 29 30 31 32 33 34 35 36 37 38 39 40 41 42 43 44 45 46 47 48 49 \n",
      "RandomForest, fold: 0 1 2 3 4 5 6 7 8 9 10 11 12 13 14 15 16 17 18 19 20 21 22 23 24 25 26 27 28 29 30 31 32 33 34 35 36 37 38 39 40 41 42 43 44 45 46 47 48 49 \n",
      "\n",
      "Training models: protected_class = hispanic\n",
      "-------------------------------------------\n",
      "LogisticRegression, fold: 0 1 2 3 4 5 6 7 8 9 10 11 12 13 14 15 16 17 18 19 20 21 22 23 24 25 26 27 28 29 30 31 32 33 34 35 36 37 38 39 40 41 42 43 44 45 46 47 48 49 \n",
      "DecisionTree, fold: 0 1 2 3 4 5 6 7 8 9 10 11 12 13 14 15 16 17 18 19 20 21 22 23 24 25 26 27 28 29 30 31 32 33 34 35 36 37 38 39 40 41 42 43 44 45 46 47 48 49 \n",
      "RandomForest, fold: 0 1 2 3 4 5 6 7 8 9 10 11 12 13 14 15 16 17 18 19 20 21 22 23 24 25 26 27 28 29 30 31 32 33 34 35 36 37 38 39 40 41 42 43 44 45 46 47 48 49 \n",
      "\n"
     ]
    }
   ],
   "source": [
    "# training and target data\n",
    "X = df[features].values\n",
    "y = df[\"action\"].values\n",
    "s_female = df[\"female\"].values\n",
    "s_black = df[\"black\"].values\n",
    "s_american_indian = df[\"american_indian\"].values\n",
    "s_hispanic = df[\"hispanic\"].values\n",
    "\n",
    "\n",
    "LOGISTIC_REGRESSION = LogisticRegression(\n",
    "    penalty=\"l2\", C=0.001, class_weight=\"balanced\")\n",
    "DECISION_TREE_CLF = DecisionTreeClassifier(\n",
    "    criterion=\"entropy\", max_depth=10, min_samples_leaf=10, max_features=10,\n",
    "    class_weight=\"balanced\")\n",
    "RANDOM_FOREST_CLF = RandomForestClassifier(\n",
    "    criterion=\"entropy\", n_estimators=50, max_depth=10, max_features=10,\n",
    "    min_samples_leaf=10, class_weight=\"balanced\")\n",
    "estimators = [\n",
    "    (\"LogisticRegression\", LOGISTIC_REGRESSION),\n",
    "    (\"DecisionTree\", DECISION_TREE_CLF),\n",
    "    (\"RandomForest\", RANDOM_FOREST_CLF)\n",
    "]\n",
    "experiment_baseline_female = cross_validation_experiment(\n",
    "    estimators, X, y, s_female, \"female\")\n",
    "experiment_baseline_black = cross_validation_experiment(\n",
    "    estimators, X, y, s_black, \"black\")\n",
    "experiment_baseline_american_indian = cross_validation_experiment(\n",
    "    estimators, X, y, s_american_indian, \"american_indian\")\n",
    "experiment_baseline_hispanic = cross_validation_experiment(\n",
    "    estimators, X, y, s_hispanic, \"hispanic\")"
   ]
  },
  {
   "cell_type": "code",
   "execution_count": 126,
   "metadata": {},
   "outputs": [
    {
     "data": {
      "text/html": [
       "<div>\n",
       "<style scoped>\n",
       "    .dataframe tbody tr th:only-of-type {\n",
       "        vertical-align: middle;\n",
       "    }\n",
       "\n",
       "    .dataframe tbody tr th {\n",
       "        vertical-align: top;\n",
       "    }\n",
       "\n",
       "    .dataframe thead th {\n",
       "        text-align: right;\n",
       "    }\n",
       "</style>\n",
       "<table border=\"1\" class=\"dataframe\">\n",
       "  <thead>\n",
       "    <tr style=\"text-align: right;\">\n",
       "      <th></th>\n",
       "      <th></th>\n",
       "      <th></th>\n",
       "      <th>auc</th>\n",
       "      <th>mean_diff</th>\n",
       "      <th>norm_mean_diff</th>\n",
       "    </tr>\n",
       "    <tr>\n",
       "      <th>protected_class</th>\n",
       "      <th>estimator</th>\n",
       "      <th>fold_type</th>\n",
       "      <th></th>\n",
       "      <th></th>\n",
       "      <th></th>\n",
       "    </tr>\n",
       "  </thead>\n",
       "  <tbody>\n",
       "    <tr>\n",
       "      <th rowspan=\"3\" valign=\"top\">american_indian</th>\n",
       "      <th>DecisionTree</th>\n",
       "      <th>test</th>\n",
       "      <td>0.894434</td>\n",
       "      <td>0.094912</td>\n",
       "      <td>0.118397</td>\n",
       "    </tr>\n",
       "    <tr>\n",
       "      <th>LogisticRegression</th>\n",
       "      <th>test</th>\n",
       "      <td>0.902980</td>\n",
       "      <td>0.099237</td>\n",
       "      <td>0.166110</td>\n",
       "    </tr>\n",
       "    <tr>\n",
       "      <th>RandomForest</th>\n",
       "      <th>test</th>\n",
       "      <td>0.914892</td>\n",
       "      <td>0.113979</td>\n",
       "      <td>0.168575</td>\n",
       "    </tr>\n",
       "    <tr>\n",
       "      <th rowspan=\"3\" valign=\"top\">black</th>\n",
       "      <th>DecisionTree</th>\n",
       "      <th>test</th>\n",
       "      <td>0.894028</td>\n",
       "      <td>0.156533</td>\n",
       "      <td>0.225966</td>\n",
       "    </tr>\n",
       "    <tr>\n",
       "      <th>LogisticRegression</th>\n",
       "      <th>test</th>\n",
       "      <td>0.902931</td>\n",
       "      <td>0.162507</td>\n",
       "      <td>0.261264</td>\n",
       "    </tr>\n",
       "    <tr>\n",
       "      <th>RandomForest</th>\n",
       "      <th>test</th>\n",
       "      <td>0.915165</td>\n",
       "      <td>0.171733</td>\n",
       "      <td>0.257836</td>\n",
       "    </tr>\n",
       "    <tr>\n",
       "      <th rowspan=\"3\" valign=\"top\">female</th>\n",
       "      <th>DecisionTree</th>\n",
       "      <th>test</th>\n",
       "      <td>0.895168</td>\n",
       "      <td>0.046437</td>\n",
       "      <td>0.051395</td>\n",
       "    </tr>\n",
       "    <tr>\n",
       "      <th>LogisticRegression</th>\n",
       "      <th>test</th>\n",
       "      <td>0.902973</td>\n",
       "      <td>0.049036</td>\n",
       "      <td>0.059731</td>\n",
       "    </tr>\n",
       "    <tr>\n",
       "      <th>RandomForest</th>\n",
       "      <th>test</th>\n",
       "      <td>0.915082</td>\n",
       "      <td>0.051051</td>\n",
       "      <td>0.058372</td>\n",
       "    </tr>\n",
       "    <tr>\n",
       "      <th rowspan=\"3\" valign=\"top\">hispanic</th>\n",
       "      <th>DecisionTree</th>\n",
       "      <th>test</th>\n",
       "      <td>0.895801</td>\n",
       "      <td>0.009303</td>\n",
       "      <td>0.011770</td>\n",
       "    </tr>\n",
       "    <tr>\n",
       "      <th>LogisticRegression</th>\n",
       "      <th>test</th>\n",
       "      <td>0.902929</td>\n",
       "      <td>0.002552</td>\n",
       "      <td>0.004008</td>\n",
       "    </tr>\n",
       "    <tr>\n",
       "      <th>RandomForest</th>\n",
       "      <th>test</th>\n",
       "      <td>0.915168</td>\n",
       "      <td>0.013858</td>\n",
       "      <td>0.015577</td>\n",
       "    </tr>\n",
       "  </tbody>\n",
       "</table>\n",
       "</div>"
      ],
      "text/plain": [
       "                                                   auc  mean_diff  \\\n",
       "protected_class estimator          fold_type                        \n",
       "american_indian DecisionTree       test       0.894434   0.094912   \n",
       "                LogisticRegression test       0.902980   0.099237   \n",
       "                RandomForest       test       0.914892   0.113979   \n",
       "black           DecisionTree       test       0.894028   0.156533   \n",
       "                LogisticRegression test       0.902931   0.162507   \n",
       "                RandomForest       test       0.915165   0.171733   \n",
       "female          DecisionTree       test       0.895168   0.046437   \n",
       "                LogisticRegression test       0.902973   0.049036   \n",
       "                RandomForest       test       0.915082   0.051051   \n",
       "hispanic        DecisionTree       test       0.895801   0.009303   \n",
       "                LogisticRegression test       0.902929   0.002552   \n",
       "                RandomForest       test       0.915168   0.013858   \n",
       "\n",
       "                                              norm_mean_diff  \n",
       "protected_class estimator          fold_type                  \n",
       "american_indian DecisionTree       test             0.118397  \n",
       "                LogisticRegression test             0.166110  \n",
       "                RandomForest       test             0.168575  \n",
       "black           DecisionTree       test             0.225966  \n",
       "                LogisticRegression test             0.261264  \n",
       "                RandomForest       test             0.257836  \n",
       "female          DecisionTree       test             0.051395  \n",
       "                LogisticRegression test             0.059731  \n",
       "                RandomForest       test             0.058372  \n",
       "hispanic        DecisionTree       test             0.011770  \n",
       "                LogisticRegression test             0.004008  \n",
       "                RandomForest       test             0.015577  "
      ]
     },
     "execution_count": 126,
     "metadata": {},
     "output_type": "execute_result"
    }
   ],
   "source": [
    "import seaborn as sns\n",
    "import matplotlib.pyplot as plt\n",
    "% matplotlib inline\n",
    "\n",
    "UTILITY_METRICS = [\"auc\"]\n",
    "FAIRNESS_METRICS = [\"mean_diff\"]\n",
    "\n",
    "def summarize_experiment_results(experiment_df):\n",
    "    return (\n",
    "        experiment_df\n",
    "        .drop(\"cv_fold\", axis=1)\n",
    "        .groupby([\"protected_class\", \"estimator\", \"fold_type\"])\n",
    "        .mean())\n",
    "\n",
    "experiment_baseline = pd.concat([\n",
    "    experiment_baseline_female,\n",
    "    experiment_baseline_black,\n",
    "    experiment_baseline_american_indian,\n",
    "    experiment_baseline_hispanic\n",
    "])\n",
    "experiment_baseline_summary = summarize_experiment_results(\n",
    "    experiment_baseline)\n",
    "experiment_baseline_summary.query(\"fold_type == 'test'\")"
   ]
  },
  {
   "cell_type": "code",
   "execution_count": 127,
   "metadata": {},
   "outputs": [
    {
     "data": {
      "text/plain": [
       "<seaborn.axisgrid.FacetGrid at 0x115098d10>"
      ]
     },
     "execution_count": 127,
     "metadata": {},
     "output_type": "execute_result"
    },
    {
     "data": {
      "image/png": "[encoded data removed]",
      "text/plain": [
       "<Figure size 576x288 with 1 Axes>"
      ]
     },
     "metadata": {},
     "output_type": "display_data"
    }
   ],
   "source": [
    "baseline_df = (\n",
    "    experiment_baseline\n",
    "    .query(\"fold_type == 'test' and estimator == 'LogisticRegression'\")\n",
    ")\n",
    "sns.factorplot(y=\"protected_class\", x=\"mean_diff\", orient=\"h\", data=baseline_df,\n",
    "               size=4, aspect=2, join=False)"
   ]
  },
  {
   "cell_type": "code",
   "execution_count": 128,
   "metadata": {},
   "outputs": [
    {
     "name": "stdout",
     "output_type": "stream",
     "text": [
      "grand_mean(norm_mean_diff) for female - mean: 0.049, 95% CI(0.048, 0.050)\n",
      "grand_mean(norm_mean_diff) for black - mean: 0.163, 95% CI(0.161, 0.164)\n",
      "grand_mean(norm_mean_diff) for american_indian - mean: 0.099, 95% CI(0.096, 0.102)\n",
      "grand_mean(norm_mean_diff) for hispanic - mean: 0.003, 95% CI(0.002, 0.004)\n"
     ]
    }
   ],
   "source": [
    "protected_classes = [\"female\", \"black\", \"american_indian\", \"hispanic\"]\n",
    "for s in protected_classes:\n",
    "    mean_ci = mean_confidence_interval(\n",
    "        baseline_df.query(\"protected_class == @s\").mean_diff.dropna())\n",
    "    print(\n",
    "        \"grand_mean(norm_mean_diff) for %s - mean: %0.03f, 95%% CI(%0.03f, %0.03f)\" %\n",
    "        (s, mean_ci[0], mean_ci[1], mean_ci[2]))"
   ]
  },
  {
   "cell_type": "code",
   "execution_count": 76,
   "metadata": {},
   "outputs": [
    {
     "data": {
      "image/png": "[encoded data removed]",
      "text/plain": [
       "<Figure size 1036.83x504 with 4 Axes>"
      ]
     },
     "metadata": {},
     "output_type": "display_data"
    }
   ],
   "source": [
    "def plot_experiment_results(experiment_results):\n",
    "    return (\n",
    "          experiment_results\n",
    "        .query(\"fold_type == 'test'\")\n",
    "        .drop([\"fold_type\", \"cv_fold\"], axis=1)\n",
    "        .pipe(pd.melt, id_vars=[\"protected_class\", \"estimator\"],\n",
    "              var_name=\"metric\", value_name=\"score\")\n",
    "        .pipe((sns.factorplot, \"data\"), y=\"metric\",\n",
    "              x=\"score\", hue=\"estimator\", col=\"protected_class\", col_wrap=3,\n",
    "              size=3.5, aspect=1.2, join=False, dodge=0.4))\n",
    "\n",
    "plot_experiment_results(experiment_baseline);\n"
   ]
  },
  {
   "cell_type": "code",
   "execution_count": 129,
   "metadata": {},
   "outputs": [
    {
     "data": {
      "text/markdown": [
       "#### protected class = female:"
      ],
      "text/plain": [
       "<IPython.core.display.Markdown object>"
      ]
     },
     "metadata": {},
     "output_type": "display_data"
    },
    {
     "data": {
      "text/markdown": [
       "- best utility measured by auc (higher is better) = 0.915: RandomForest\n",
       "- best fairness measured by mean_diff (lower is better) = 0.046: DecisionTree\n"
      ],
      "text/plain": [
       "<IPython.core.display.Markdown object>"
      ]
     },
     "metadata": {},
     "output_type": "display_data"
    },
    {
     "data": {
      "text/markdown": [
       "#### protected class = black:"
      ],
      "text/plain": [
       "<IPython.core.display.Markdown object>"
      ]
     },
     "metadata": {},
     "output_type": "display_data"
    },
    {
     "data": {
      "text/markdown": [
       "- best utility measured by auc (higher is better) = 0.915: RandomForest\n",
       "- best fairness measured by mean_diff (lower is better) = 0.157: DecisionTree\n"
      ],
      "text/plain": [
       "<IPython.core.display.Markdown object>"
      ]
     },
     "metadata": {},
     "output_type": "display_data"
    },
    {
     "data": {
      "text/markdown": [
       "#### protected class = american_indian:"
      ],
      "text/plain": [
       "<IPython.core.display.Markdown object>"
      ]
     },
     "metadata": {},
     "output_type": "display_data"
    },
    {
     "data": {
      "text/markdown": [
       "- best utility measured by auc (higher is better) = 0.915: RandomForest\n",
       "- best fairness measured by mean_diff (lower is better) = 0.095: DecisionTree\n"
      ],
      "text/plain": [
       "<IPython.core.display.Markdown object>"
      ]
     },
     "metadata": {},
     "output_type": "display_data"
    },
    {
     "data": {
      "text/markdown": [
       "#### protected class = hispanic:"
      ],
      "text/plain": [
       "<IPython.core.display.Markdown object>"
      ]
     },
     "metadata": {},
     "output_type": "display_data"
    },
    {
     "data": {
      "text/markdown": [
       "- best utility measured by auc (higher is better) = 0.915: RandomForest\n",
       "- best fairness measured by mean_diff (lower is better) = 0.003: LogisticRegression\n"
      ],
      "text/plain": [
       "<IPython.core.display.Markdown object>"
      ]
     },
     "metadata": {},
     "output_type": "display_data"
    }
   ],
   "source": [
    "from IPython.display import Markdown, display\n",
    "\n",
    "def print_best_metrics(experiment_results, protected_classes):\n",
    "    for pclass in protected_classes:\n",
    "        msg = \"#### protected class = %s:\" % pclass\n",
    "        display(Markdown(msg))\n",
    "        exp_df = experiment_results[\n",
    "            (experiment_results[\"protected_class\"] == pclass) &\n",
    "            (experiment_results[\"fold_type\"] == \"test\")]\n",
    "        msg = \"\"\n",
    "        \n",
    "        for m in UTILITY_METRICS:\n",
    "            utility_msg = \\\n",
    "                \"- best utility measured by %s (higher is better)\" % m\n",
    "            best_model = (\n",
    "                exp_df\n",
    "                .sort_values(m, ascending=False)\n",
    "                .drop([\"fold_type\"], axis=1)\n",
    "                .iloc[0][[m, \"estimator\"]])\n",
    "            msg += utility_msg + \" = %0.03f: %s\\n\" % \\\n",
    "                   (best_model[0], best_model[1])\n",
    "        \n",
    "        for m in FAIRNESS_METRICS:\n",
    "            fairness_msg = \\\n",
    "                \"- best fairness measured by %s (lower is better)\" % m\n",
    "            best_model = (\n",
    "                exp_df\n",
    "                # score closer to zero is better\n",
    "                .assign(abs_measure=lambda df: df[m].abs())\n",
    "                .sort_values(\"abs_measure\")\n",
    "                .drop([\"abs_measure\", \"fold_type\"], axis=1)\n",
    "                .iloc[0][[m, \"estimator\"]])\n",
    "            msg += fairness_msg + \" = %0.03f: %s\\n\" % \\\n",
    "                   (best_model[0], best_model[1])\n",
    "        display(Markdown(msg))\n",
    "        \n",
    "print_best_metrics(\n",
    "    experiment_baseline_summary.reset_index(),\n",
    "    [\"female\", \"black\", \"american_indian\", \"hispanic\"])"
   ]
  },
  {
   "cell_type": "markdown",
   "metadata": {},
   "source": [
    "## Naive Fairness-aware Approach: Remove Protected Class\n"
   ]
  },
  {
   "cell_type": "code",
   "execution_count": 130,
   "metadata": {},
   "outputs": [],
   "source": [
    "# create feature sets that remove variables with protected class information\n",
    "feature_set_no_sex = [f for f in features if f != \"APP_SEX\"]\n",
    "feature_set_no_race = [f for f in features if f != \"APP_RACE1\"]\n",
    "feature_set_no_hispanic = [f for f in features if f != \"APP_ETH\"]"
   ]
  },
  {
   "cell_type": "code",
   "execution_count": 131,
   "metadata": {},
   "outputs": [],
   "source": [
    "X_no_sex = df[feature_set_no_sex].values\n",
    "X_no_race = df[feature_set_no_race].values\n",
    "X_no_hispanic = df[feature_set_no_hispanic].values "
   ]
  },
  {
   "cell_type": "code",
   "execution_count": 132,
   "metadata": {},
   "outputs": [
    {
     "name": "stdout",
     "output_type": "stream",
     "text": [
      "Training models: protected_class = female\n",
      "-----------------------------------------\n",
      "LogisticRegression, fold: 0 1 2 3 4 5 6 7 8 9 10 11 12 13 14 15 16 17 18 19 20 21 22 23 24 25 26 27 28 29 30 31 32 33 34 35 36 37 38 39 40 41 42 43 44 45 46 47 48 49 \n",
      "DecisionTree, fold: 0 1 2 3 4 5 6 7 8 9 10 11 12 13 14 15 16 17 18 19 20 21 22 23 24 25 26 27 28 29 30 31 32 33 34 35 36 37 38 39 40 41 42 43 44 45 46 47 48 49 \n",
      "RandomForest, fold: 0 1 2 3 4 5 6 7 8 9 10 11 12 13 14 15 16 17 18 19 20 21 22 23 24 25 26 27 28 29 30 31 32 33 34 35 36 37 38 39 40 41 42 43 44 45 46 47 48 49 \n",
      "\n",
      "Training models: protected_class = black\n",
      "----------------------------------------\n",
      "LogisticRegression, fold: 0 1 2 3 4 5 6 7 8 9 10 11 12 13 14 15 16 17 18 19 20 21 22 23 24 25 26 27 28 29 30 31 32 33 34 35 36 37 38 39 40 41 42 43 44 45 46 47 48 49 \n",
      "DecisionTree, fold: 0 1 2 3 4 5 6 7 8 9 10 11 12 13 14 15 16 17 18 19 20 21 22 23 24 25 26 27 28 29 30 31 32 33 34 35 36 37 38 39 40 41 42 43 44 45 46 47 48 49 \n",
      "RandomForest, fold: 0 1 2 3 4 5 6 7 8 9 10 11 12 13 14 15 16 17 18 19 20 21 22 23 24 25 26 27 28 29 30 31 32 33 34 35 36 37 38 39 40 41 42 43 44 45 46 47 48 49 \n",
      "\n",
      "Training models: protected_class = american_indian\n",
      "--------------------------------------------------\n",
      "LogisticRegression, fold: 0 1 2 3 4 5 6 7 8 9 10 11 12 13 14 15 16 17 18 19 20 21 22 23 24 25 26 27 28 29 30 31 32 33 34 35 36 37 38 39 40 41 42 43 44 45 46 47 48 49 \n",
      "DecisionTree, fold: 0 1 2 3 4 5 6 7 8 9 10 11 12 13 14 15 16 17 18 19 20 21 22 23 24 25 26 27 28 29 30 31 32 33 34 35 36 37 38 39 40 41 42 43 44 45 46 47 48 49 \n",
      "RandomForest, fold: 0 1 2 3 4 5 6 7 8 9 10 11 12 13 14 15 16 17 18 19 20 21 22 23 24 25 26 27 28 29 30 31 32 33 34 35 36 37 38 39 40 41 42 43 44 45 46 47 48 49 \n",
      "\n",
      "Training models: protected_class = hispanic\n",
      "-------------------------------------------\n",
      "LogisticRegression, fold: 0 1 2 3 4 5 6 7 8 9 10 11 12 13 14 15 16 17 18 19 20 21 22 23 24 25 26 27 28 29 30 31 32 33 34 35 36 37 38 39 40 41 42 43 44 45 46 47 48 49 \n",
      "DecisionTree, fold: 0 1 2 3 4 5 6 7 8 9 10 11 12 13 14 15 16 17 18 19 20 21 22 23 24 25 26 27 28 29 30 31 32 33 34 35 36 37 38 39 40 41 42 43 44 45 46 47 48 49 \n",
      "RandomForest, fold: 0 1 2 3 4 5 6 7 8 9 10 11 12 13 14 15 16 17 18 19 20 21 22 23 24 25 26 27 28 29 30 31 32 33 34 35 36 37 38 39 40 41 42 43 44 45 46 47 48 49 \n",
      "\n"
     ]
    }
   ],
   "source": [
    "experiment_naive_female = cross_validation_experiment(\n",
    "    estimators, X_no_sex, y, s_female, \"female\")\n",
    "experiment_naive_black = cross_validation_experiment(\n",
    "    estimators, X_no_race, y, s_black, \"black\")\n",
    "experiment_naive_american_indian = cross_validation_experiment(\n",
    "    estimators, X_no_race, y, s_american_indian, \"american_indian\")\n",
    "experiment_naive_hispanic = cross_validation_experiment(\n",
    "    estimators, X_no_hispanic, y, s_hispanic, \"hispanic\")"
   ]
  },
  {
   "cell_type": "code",
   "execution_count": 134,
   "metadata": {},
   "outputs": [
    {
     "data": {
      "text/html": [
       "<div>\n",
       "<style scoped>\n",
       "    .dataframe tbody tr th:only-of-type {\n",
       "        vertical-align: middle;\n",
       "    }\n",
       "\n",
       "    .dataframe tbody tr th {\n",
       "        vertical-align: top;\n",
       "    }\n",
       "\n",
       "    .dataframe thead th {\n",
       "        text-align: right;\n",
       "    }\n",
       "</style>\n",
       "<table border=\"1\" class=\"dataframe\">\n",
       "  <thead>\n",
       "    <tr style=\"text-align: right;\">\n",
       "      <th></th>\n",
       "      <th></th>\n",
       "      <th></th>\n",
       "      <th>auc</th>\n",
       "      <th>mean_diff</th>\n",
       "      <th>norm_mean_diff</th>\n",
       "    </tr>\n",
       "    <tr>\n",
       "      <th>protected_class</th>\n",
       "      <th>estimator</th>\n",
       "      <th>fold_type</th>\n",
       "      <th></th>\n",
       "      <th></th>\n",
       "      <th></th>\n",
       "    </tr>\n",
       "  </thead>\n",
       "  <tbody>\n",
       "    <tr>\n",
       "      <th rowspan=\"3\" valign=\"top\">american_indian</th>\n",
       "      <th>DecisionTree</th>\n",
       "      <th>test</th>\n",
       "      <td>0.894608</td>\n",
       "      <td>0.094453</td>\n",
       "      <td>0.150239</td>\n",
       "    </tr>\n",
       "    <tr>\n",
       "      <th>LogisticRegression</th>\n",
       "      <th>test</th>\n",
       "      <td>0.902760</td>\n",
       "      <td>0.085162</td>\n",
       "      <td>0.144310</td>\n",
       "    </tr>\n",
       "    <tr>\n",
       "      <th>RandomForest</th>\n",
       "      <th>test</th>\n",
       "      <td>0.914785</td>\n",
       "      <td>0.112934</td>\n",
       "      <td>0.162436</td>\n",
       "    </tr>\n",
       "    <tr>\n",
       "      <th rowspan=\"3\" valign=\"top\">black</th>\n",
       "      <th>DecisionTree</th>\n",
       "      <th>test</th>\n",
       "      <td>0.896003</td>\n",
       "      <td>0.155597</td>\n",
       "      <td>0.232152</td>\n",
       "    </tr>\n",
       "    <tr>\n",
       "      <th>LogisticRegression</th>\n",
       "      <th>test</th>\n",
       "      <td>0.902730</td>\n",
       "      <td>0.158377</td>\n",
       "      <td>0.253465</td>\n",
       "    </tr>\n",
       "    <tr>\n",
       "      <th>RandomForest</th>\n",
       "      <th>test</th>\n",
       "      <td>0.914875</td>\n",
       "      <td>0.170924</td>\n",
       "      <td>0.257585</td>\n",
       "    </tr>\n",
       "    <tr>\n",
       "      <th rowspan=\"3\" valign=\"top\">female</th>\n",
       "      <th>DecisionTree</th>\n",
       "      <th>test</th>\n",
       "      <td>0.894484</td>\n",
       "      <td>0.046337</td>\n",
       "      <td>0.055205</td>\n",
       "    </tr>\n",
       "    <tr>\n",
       "      <th>LogisticRegression</th>\n",
       "      <th>test</th>\n",
       "      <td>0.902819</td>\n",
       "      <td>0.045624</td>\n",
       "      <td>0.055770</td>\n",
       "    </tr>\n",
       "    <tr>\n",
       "      <th>RandomForest</th>\n",
       "      <th>test</th>\n",
       "      <td>0.915076</td>\n",
       "      <td>0.052570</td>\n",
       "      <td>0.061361</td>\n",
       "    </tr>\n",
       "    <tr>\n",
       "      <th rowspan=\"3\" valign=\"top\">hispanic</th>\n",
       "      <th>DecisionTree</th>\n",
       "      <th>test</th>\n",
       "      <td>0.894364</td>\n",
       "      <td>0.008263</td>\n",
       "      <td>0.010927</td>\n",
       "    </tr>\n",
       "    <tr>\n",
       "      <th>LogisticRegression</th>\n",
       "      <th>test</th>\n",
       "      <td>0.902675</td>\n",
       "      <td>-0.002138</td>\n",
       "      <td>-0.002006</td>\n",
       "    </tr>\n",
       "    <tr>\n",
       "      <th>RandomForest</th>\n",
       "      <th>test</th>\n",
       "      <td>0.914662</td>\n",
       "      <td>0.014001</td>\n",
       "      <td>0.016556</td>\n",
       "    </tr>\n",
       "  </tbody>\n",
       "</table>\n",
       "</div>"
      ],
      "text/plain": [
       "                                                   auc  mean_diff  \\\n",
       "protected_class estimator          fold_type                        \n",
       "american_indian DecisionTree       test       0.894608   0.094453   \n",
       "                LogisticRegression test       0.902760   0.085162   \n",
       "                RandomForest       test       0.914785   0.112934   \n",
       "black           DecisionTree       test       0.896003   0.155597   \n",
       "                LogisticRegression test       0.902730   0.158377   \n",
       "                RandomForest       test       0.914875   0.170924   \n",
       "female          DecisionTree       test       0.894484   0.046337   \n",
       "                LogisticRegression test       0.902819   0.045624   \n",
       "                RandomForest       test       0.915076   0.052570   \n",
       "hispanic        DecisionTree       test       0.894364   0.008263   \n",
       "                LogisticRegression test       0.902675  -0.002138   \n",
       "                RandomForest       test       0.914662   0.014001   \n",
       "\n",
       "                                              norm_mean_diff  \n",
       "protected_class estimator          fold_type                  \n",
       "american_indian DecisionTree       test             0.150239  \n",
       "                LogisticRegression test             0.144310  \n",
       "                RandomForest       test             0.162436  \n",
       "black           DecisionTree       test             0.232152  \n",
       "                LogisticRegression test             0.253465  \n",
       "                RandomForest       test             0.257585  \n",
       "female          DecisionTree       test             0.055205  \n",
       "                LogisticRegression test             0.055770  \n",
       "                RandomForest       test             0.061361  \n",
       "hispanic        DecisionTree       test             0.010927  \n",
       "                LogisticRegression test            -0.002006  \n",
       "                RandomForest       test             0.016556  "
      ]
     },
     "execution_count": 134,
     "metadata": {},
     "output_type": "execute_result"
    }
   ],
   "source": [
    "experiment_naive = pd.concat([\n",
    "    experiment_naive_female,\n",
    "    experiment_naive_black,\n",
    "    experiment_naive_american_indian,\n",
    "    experiment_naive_hispanic\n",
    "])\n",
    "experiment_naive_summary = summarize_experiment_results(experiment_naive)\n",
    "experiment_naive_summary.query(\"fold_type == 'test'\")"
   ]
  },
  {
   "cell_type": "code",
   "execution_count": 135,
   "metadata": {},
   "outputs": [
    {
     "data": {
      "text/plain": [
       "<seaborn.axisgrid.FacetGrid at 0x1106c6090>"
      ]
     },
     "execution_count": 135,
     "metadata": {},
     "output_type": "execute_result"
    },
    {
     "data": {
      "image/png": "[encoded data removed]",
      "text/plain": [
       "<Figure size 1036.83x504 with 4 Axes>"
      ]
     },
     "metadata": {},
     "output_type": "display_data"
    }
   ],
   "source": [
    "plot_experiment_results(experiment_naive)"
   ]
  },
  {
   "cell_type": "code",
   "execution_count": 136,
   "metadata": {},
   "outputs": [
    {
     "data": {
      "text/markdown": [
       "#### protected class = female:"
      ],
      "text/plain": [
       "<IPython.core.display.Markdown object>"
      ]
     },
     "metadata": {},
     "output_type": "display_data"
    },
    {
     "data": {
      "text/markdown": [
       "- best utility measured by auc (higher is better) = 0.915: RandomForest\n",
       "- best fairness measured by mean_diff (lower is better) = 0.046: LogisticRegression\n"
      ],
      "text/plain": [
       "<IPython.core.display.Markdown object>"
      ]
     },
     "metadata": {},
     "output_type": "display_data"
    },
    {
     "data": {
      "text/markdown": [
       "#### protected class = black:"
      ],
      "text/plain": [
       "<IPython.core.display.Markdown object>"
      ]
     },
     "metadata": {},
     "output_type": "display_data"
    },
    {
     "data": {
      "text/markdown": [
       "- best utility measured by auc (higher is better) = 0.915: RandomForest\n",
       "- best fairness measured by mean_diff (lower is better) = 0.156: DecisionTree\n"
      ],
      "text/plain": [
       "<IPython.core.display.Markdown object>"
      ]
     },
     "metadata": {},
     "output_type": "display_data"
    },
    {
     "data": {
      "text/markdown": [
       "#### protected class = american_indian:"
      ],
      "text/plain": [
       "<IPython.core.display.Markdown object>"
      ]
     },
     "metadata": {},
     "output_type": "display_data"
    },
    {
     "data": {
      "text/markdown": [
       "- best utility measured by auc (higher is better) = 0.915: RandomForest\n",
       "- best fairness measured by mean_diff (lower is better) = 0.085: LogisticRegression\n"
      ],
      "text/plain": [
       "<IPython.core.display.Markdown object>"
      ]
     },
     "metadata": {},
     "output_type": "display_data"
    },
    {
     "data": {
      "text/markdown": [
       "#### protected class = hispanic:"
      ],
      "text/plain": [
       "<IPython.core.display.Markdown object>"
      ]
     },
     "metadata": {},
     "output_type": "display_data"
    },
    {
     "data": {
      "text/markdown": [
       "- best utility measured by auc (higher is better) = 0.915: RandomForest\n",
       "- best fairness measured by mean_diff (lower is better) = -0.002: LogisticRegression\n"
      ],
      "text/plain": [
       "<IPython.core.display.Markdown object>"
      ]
     },
     "metadata": {},
     "output_type": "display_data"
    }
   ],
   "source": [
    "print_best_metrics(\n",
    "    experiment_naive_summary.reset_index(),\n",
    "    [\"female\", \"black\", \"american_indian\",\"hispanic\"])"
   ]
  },
  {
   "cell_type": "markdown",
   "metadata": {},
   "source": [
    "## Fairness-aware Method: Relabelling"
   ]
  },
  {
   "cell_type": "code",
   "execution_count": 137,
   "metadata": {},
   "outputs": [
    {
     "name": "stdout",
     "output_type": "stream",
     "text": [
      "Training models: protected_class = female\n",
      "-----------------------------------------\n",
      "LogisticRegression, fold: 0 1 2 3 4 5 6 7 8 9 10 11 12 13 14 15 16 17 18 19 20 21 22 23 24 25 26 27 28 29 30 31 32 33 34 35 36 37 38 39 40 41 42 43 44 45 46 47 48 49 \n",
      "DecisionTree, fold: 0 1 2 3 4 5 6 7 8 9 10 11 12 13 14 15 16 17 18 19 20 21 22 23 24 25 26 27 28 29 30 31 32 33 34 35 36 37 38 39 40 41 42 43 44 45 46 47 48 49 \n",
      "RandomForest, fold: 0 1 2 3 4 5 6 7 8 9 10 11 12 13 14 15 16 17 18 19 20 21 22 23 24 25 26 27 28 29 30 31 32 33 34 35 36 37 38 39 40 41 42 43 44 45 46 47 48 49 \n",
      "\n",
      "Training models: protected_class = black\n",
      "----------------------------------------\n",
      "LogisticRegression, fold: 0 1 2 3 4 5 6 7 8 9 10 11 12 13 14 15 16 17 18 19 20 21 22 23 24 25 26 27 28 29 30 31 32 33 34 35 36 37 38 39 40 41 42 43 44 45 46 47 48 49 \n",
      "DecisionTree, fold: 0 1 2 3 4 5 6 7 8 9 10 11 12 13 14 15 16 17 18 19 20 21 22 23 24 25 26 27 28 29 30 31 32 33 34 35 36 37 38 39 40 41 42 43 44 45 46 47 48 49 \n",
      "RandomForest, fold: 0 1 2 3 4 5 6 7 8 9 10 11 12 13 14 15 16 17 18 19 20 21 22 23 24 25 26 27 28 29 30 31 32 33 34 35 36 37 38 39 40 41 42 43 44 45 46 47 48 49 \n",
      "\n",
      "Training models: protected_class = american_indian\n",
      "--------------------------------------------------\n",
      "LogisticRegression, fold: 0 1 2 3 4 5 6 7 8 9 10 11 12 13 14 15 16 17 18 19 20 21 22 23 24 25 26 27 28 29 30 31 32 33 34 35 36 37 38 39 40 41 42 43 44 45 46 47 48 49 \n",
      "DecisionTree, fold: 0 1 2 3 4 5 6 7 8 9 10 11 12 13 14 15 16 17 18 19 20 21 22 23 24 25 26 27 28 29 30 31 32 33 34 35 36 37 38 39 40 41 42 43 44 45 46 47 48 49 \n",
      "RandomForest, fold: 0 1 2 3 4 5 6 7 8 9 10 11 12 13 14 15 16 17 18 19 20 21 22 23 24 25 26 27 28 29 30 31 32 33 34 35 36 37 38 39 40 41 42 43 44 45 46 47 48 49 \n",
      "\n",
      "Training models: protected_class = hispanic\n",
      "-------------------------------------------\n",
      "LogisticRegression, fold: 0 1 2 3 4 5 6 7 8 9 10 11 12 13 14 15 16 17 18 19 20 21 22 23 24 25 26 27 28 29 30 31 32 33 34 35 36 37 38 39 40 41 42 43 44 45 46 47 48 49 \n",
      "DecisionTree, fold: 0 1 2 3 4 5 6 7 8 9 10 11 12 13 14 15 16 17 18 19 20 21 22 23 24 25 26 27 28 29 30 31 32 33 34 35 36 37 38 39 40 41 42 43 44 45 46 47 48 49 \n",
      "RandomForest, fold: 0 1 2 3 4 5 6 7 8 9 10 11 12 13 14 15 16 17 18 19 20 21 22 23 24 25 26 27 28 29 30 31 32 33 34 35 36 37 38 39 40 41 42 43 44 45 46 47 48 49 \n",
      "\n"
     ]
    }
   ],
   "source": [
    "from sklearn.base import clone\n",
    "\n",
    "from themis_ml.preprocessing.relabelling import Relabeller\n",
    "from themis_ml.meta_estimators import FairnessAwareMetaEstimator\n",
    "\n",
    "# here we use the relabeller class to create new y vectors for each of the\n",
    "# protected class contexts.\n",
    "\n",
    "# we also use the FairnessAwareMetaEstimator as a convenience class to\n",
    "# compose together different fairness-aware methods. This wraps around the\n",
    "# estimators that we defined in the previous\n",
    "relabeller = Relabeller()\n",
    "relabelling_estimators = [\n",
    "    (name, FairnessAwareMetaEstimator(e, relabeller=relabeller))\n",
    "    for name, e in estimators]\n",
    "\n",
    "experiment_relabel_female = cross_validation_experiment(\n",
    "    relabelling_estimators, X_no_sex, y, s_female, \"female\")\n",
    "experiment_relabel_black = cross_validation_experiment(\n",
    "    relabelling_estimators, X_no_race, y, s_black, \"black\")\n",
    "experiment_relabel_american_indian = cross_validation_experiment(\n",
    "    relabelling_estimators, X_no_race, y, s_american_indian, \"american_indian\")\n",
    "experiment_relabel_hispanic = cross_validation_experiment(\n",
    "    relabelling_estimators, X_no_hispanic, y, s_hispanic, \"hispanic\")"
   ]
  },
  {
   "cell_type": "code",
   "execution_count": 138,
   "metadata": {},
   "outputs": [
    {
     "data": {
      "text/html": [
       "<div>\n",
       "<style scoped>\n",
       "    .dataframe tbody tr th:only-of-type {\n",
       "        vertical-align: middle;\n",
       "    }\n",
       "\n",
       "    .dataframe tbody tr th {\n",
       "        vertical-align: top;\n",
       "    }\n",
       "\n",
       "    .dataframe thead th {\n",
       "        text-align: right;\n",
       "    }\n",
       "</style>\n",
       "<table border=\"1\" class=\"dataframe\">\n",
       "  <thead>\n",
       "    <tr style=\"text-align: right;\">\n",
       "      <th></th>\n",
       "      <th></th>\n",
       "      <th></th>\n",
       "      <th>auc</th>\n",
       "      <th>mean_diff</th>\n",
       "      <th>norm_mean_diff</th>\n",
       "    </tr>\n",
       "    <tr>\n",
       "      <th>protected_class</th>\n",
       "      <th>estimator</th>\n",
       "      <th>fold_type</th>\n",
       "      <th></th>\n",
       "      <th></th>\n",
       "      <th></th>\n",
       "    </tr>\n",
       "  </thead>\n",
       "  <tbody>\n",
       "    <tr>\n",
       "      <th rowspan=\"3\" valign=\"top\">american_indian</th>\n",
       "      <th>DecisionTree</th>\n",
       "      <th>test</th>\n",
       "      <td>0.895743</td>\n",
       "      <td>0.086054</td>\n",
       "      <td>0.140425</td>\n",
       "    </tr>\n",
       "    <tr>\n",
       "      <th>LogisticRegression</th>\n",
       "      <th>test</th>\n",
       "      <td>0.902414</td>\n",
       "      <td>0.085988</td>\n",
       "      <td>0.144821</td>\n",
       "    </tr>\n",
       "    <tr>\n",
       "      <th>RandomForest</th>\n",
       "      <th>test</th>\n",
       "      <td>0.914615</td>\n",
       "      <td>0.103589</td>\n",
       "      <td>0.169908</td>\n",
       "    </tr>\n",
       "    <tr>\n",
       "      <th rowspan=\"3\" valign=\"top\">black</th>\n",
       "      <th>DecisionTree</th>\n",
       "      <th>test</th>\n",
       "      <td>0.892237</td>\n",
       "      <td>0.131770</td>\n",
       "      <td>0.214121</td>\n",
       "    </tr>\n",
       "    <tr>\n",
       "      <th>LogisticRegression</th>\n",
       "      <th>test</th>\n",
       "      <td>0.899192</td>\n",
       "      <td>0.165556</td>\n",
       "      <td>0.259840</td>\n",
       "    </tr>\n",
       "    <tr>\n",
       "      <th>RandomForest</th>\n",
       "      <th>test</th>\n",
       "      <td>0.911424</td>\n",
       "      <td>0.157188</td>\n",
       "      <td>0.249575</td>\n",
       "    </tr>\n",
       "    <tr>\n",
       "      <th rowspan=\"3\" valign=\"top\">female</th>\n",
       "      <th>DecisionTree</th>\n",
       "      <th>test</th>\n",
       "      <td>0.892153</td>\n",
       "      <td>0.025759</td>\n",
       "      <td>0.035561</td>\n",
       "    </tr>\n",
       "    <tr>\n",
       "      <th>LogisticRegression</th>\n",
       "      <th>test</th>\n",
       "      <td>0.898441</td>\n",
       "      <td>0.056689</td>\n",
       "      <td>0.068221</td>\n",
       "    </tr>\n",
       "    <tr>\n",
       "      <th>RandomForest</th>\n",
       "      <th>test</th>\n",
       "      <td>0.912349</td>\n",
       "      <td>0.031208</td>\n",
       "      <td>0.042530</td>\n",
       "    </tr>\n",
       "    <tr>\n",
       "      <th rowspan=\"3\" valign=\"top\">hispanic</th>\n",
       "      <th>DecisionTree</th>\n",
       "      <th>test</th>\n",
       "      <td>0.894790</td>\n",
       "      <td>-0.001210</td>\n",
       "      <td>0.004306</td>\n",
       "    </tr>\n",
       "    <tr>\n",
       "      <th>LogisticRegression</th>\n",
       "      <th>test</th>\n",
       "      <td>0.900495</td>\n",
       "      <td>0.007523</td>\n",
       "      <td>0.011767</td>\n",
       "    </tr>\n",
       "    <tr>\n",
       "      <th>RandomForest</th>\n",
       "      <th>test</th>\n",
       "      <td>0.914147</td>\n",
       "      <td>0.006274</td>\n",
       "      <td>0.012421</td>\n",
       "    </tr>\n",
       "  </tbody>\n",
       "</table>\n",
       "</div>"
      ],
      "text/plain": [
       "                                                   auc  mean_diff  \\\n",
       "protected_class estimator          fold_type                        \n",
       "american_indian DecisionTree       test       0.895743   0.086054   \n",
       "                LogisticRegression test       0.902414   0.085988   \n",
       "                RandomForest       test       0.914615   0.103589   \n",
       "black           DecisionTree       test       0.892237   0.131770   \n",
       "                LogisticRegression test       0.899192   0.165556   \n",
       "                RandomForest       test       0.911424   0.157188   \n",
       "female          DecisionTree       test       0.892153   0.025759   \n",
       "                LogisticRegression test       0.898441   0.056689   \n",
       "                RandomForest       test       0.912349   0.031208   \n",
       "hispanic        DecisionTree       test       0.894790  -0.001210   \n",
       "                LogisticRegression test       0.900495   0.007523   \n",
       "                RandomForest       test       0.914147   0.006274   \n",
       "\n",
       "                                              norm_mean_diff  \n",
       "protected_class estimator          fold_type                  \n",
       "american_indian DecisionTree       test             0.140425  \n",
       "                LogisticRegression test             0.144821  \n",
       "                RandomForest       test             0.169908  \n",
       "black           DecisionTree       test             0.214121  \n",
       "                LogisticRegression test             0.259840  \n",
       "                RandomForest       test             0.249575  \n",
       "female          DecisionTree       test             0.035561  \n",
       "                LogisticRegression test             0.068221  \n",
       "                RandomForest       test             0.042530  \n",
       "hispanic        DecisionTree       test             0.004306  \n",
       "                LogisticRegression test             0.011767  \n",
       "                RandomForest       test             0.012421  "
      ]
     },
     "execution_count": 138,
     "metadata": {},
     "output_type": "execute_result"
    }
   ],
   "source": [
    "experiment_relabel = pd.concat([\n",
    "    experiment_relabel_female,\n",
    "    experiment_relabel_black,\n",
    "    experiment_relabel_american_indian,\n",
    "    experiment_relabel_hispanic\n",
    "])\n",
    "experiment_relabel_summary = summarize_experiment_results(experiment_relabel)\n",
    "experiment_relabel_summary.query(\"fold_type == 'test'\")"
   ]
  },
  {
   "cell_type": "code",
   "execution_count": 139,
   "metadata": {},
   "outputs": [
    {
     "data": {
      "text/plain": [
       "<seaborn.axisgrid.FacetGrid at 0x116118a10>"
      ]
     },
     "execution_count": 139,
     "metadata": {},
     "output_type": "execute_result"
    },
    {
     "data": {
      "image/png": "[encoded data removed]",
      "text/plain": [
       "<Figure size 1036.83x504 with 4 Axes>"
      ]
     },
     "metadata": {},
     "output_type": "display_data"
    }
   ],
   "source": [
    "plot_experiment_results(experiment_relabel)"
   ]
  },
  {
   "cell_type": "code",
   "execution_count": 140,
   "metadata": {},
   "outputs": [
    {
     "data": {
      "text/markdown": [
       "#### protected class = female:"
      ],
      "text/plain": [
       "<IPython.core.display.Markdown object>"
      ]
     },
     "metadata": {},
     "output_type": "display_data"
    },
    {
     "data": {
      "text/markdown": [
       "- best utility measured by auc (higher is better) = 0.912: RandomForest\n",
       "- best fairness measured by mean_diff (lower is better) = 0.026: DecisionTree\n"
      ],
      "text/plain": [
       "<IPython.core.display.Markdown object>"
      ]
     },
     "metadata": {},
     "output_type": "display_data"
    },
    {
     "data": {
      "text/markdown": [
       "#### protected class = black:"
      ],
      "text/plain": [
       "<IPython.core.display.Markdown object>"
      ]
     },
     "metadata": {},
     "output_type": "display_data"
    },
    {
     "data": {
      "text/markdown": [
       "- best utility measured by auc (higher is better) = 0.911: RandomForest\n",
       "- best fairness measured by mean_diff (lower is better) = 0.132: DecisionTree\n"
      ],
      "text/plain": [
       "<IPython.core.display.Markdown object>"
      ]
     },
     "metadata": {},
     "output_type": "display_data"
    },
    {
     "data": {
      "text/markdown": [
       "#### protected class = american_indian:"
      ],
      "text/plain": [
       "<IPython.core.display.Markdown object>"
      ]
     },
     "metadata": {},
     "output_type": "display_data"
    },
    {
     "data": {
      "text/markdown": [
       "- best utility measured by auc (higher is better) = 0.915: RandomForest\n",
       "- best fairness measured by mean_diff (lower is better) = 0.086: LogisticRegression\n"
      ],
      "text/plain": [
       "<IPython.core.display.Markdown object>"
      ]
     },
     "metadata": {},
     "output_type": "display_data"
    },
    {
     "data": {
      "text/markdown": [
       "#### protected class = hispanic:"
      ],
      "text/plain": [
       "<IPython.core.display.Markdown object>"
      ]
     },
     "metadata": {},
     "output_type": "display_data"
    },
    {
     "data": {
      "text/markdown": [
       "- best utility measured by auc (higher is better) = 0.914: RandomForest\n",
       "- best fairness measured by mean_diff (lower is better) = -0.001: DecisionTree\n"
      ],
      "text/plain": [
       "<IPython.core.display.Markdown object>"
      ]
     },
     "metadata": {},
     "output_type": "display_data"
    }
   ],
   "source": [
    "print_best_metrics(\n",
    "    experiment_relabel_summary.reset_index(),\n",
    "    [\"female\", \"black\", \"american_indian\",\"hispanic\"])"
   ]
  },
  {
   "cell_type": "markdown",
   "metadata": {},
   "source": [
    "## Validation Curve: Logistic Regression"
   ]
  },
  {
   "cell_type": "code",
   "execution_count": 1,
   "metadata": {},
   "outputs": [],
   "source": [
    "LOGREG_L2_PARAM = [\n",
    "    3, 1, 3e-1, 1e-1, 3e-2, 1e-2, 3e-3, 1e-3,\n",
    "    3e-4, 1e-4, 3e-5, 1e-5, 3e-6, 1e-6, 3e-7, 1e-7, 3e-8, 1e-8]\n",
    "\n",
    "def validation_curve_experiment(\n",
    "        estimator_name, estimator, param_name, param_list, update_func):\n",
    "    validaton_curve_experiment = []\n",
    "    for param in param_list:\n",
    "        e = clone(estimator)\n",
    "        e = update_func(e, param_name, param)\n",
    "        estimators = [(estimator_name, e)]\n",
    "        experiment_relabel_female = cross_validation_experiment(\n",
    "            estimators, X_no_sex, y, s_female, \"female\",\n",
    "            verbose=False)\n",
    "        experiment_relabel_black = cross_validation_experiment(\n",
    "            estimators, X_no_race, y, s_black, \"black\",\n",
    "            verbose=False)\n",
    "        experiment_relabel_american_indian = cross_validation_experiment(\n",
    "            estimators, X_no_race, y, s_american_indian, \"american_indian\",\n",
    "            verbose=False)\n",
    "        experiment_relabel_hispanic = cross_validation_experiment(\n",
    "            estimators, X_no_hispanic, y, s_hispanic, \"hispanic\",\n",
    "            verbose=False)\n",
    "        validaton_curve_experiment.extend(\n",
    "            [experiment_relabel_female.assign(**{param_name: param}),\n",
    "             experiment_relabel_black.assign(**{param_name: param}),\n",
    "             experiment_relabel_american_indian.assign(**{param_name: param}),\n",
    "             experiment_relabel_hispanic.assign(**{param_name: param})])\n",
    "    return pd.concat(validaton_curve_experiment)\n",
    "\n",
    "\n",
    "def update_relabeller(e, param_name, param):\n",
    "    e = clone(e)\n",
    "    child_estimator = clone(e.estimator)\n",
    "    child_estimator.set_params(**{param_name: param})\n",
    "    e.set_params(estimator=child_estimator)\n",
    "    return e\n",
    "        \n",
    "\n",
    "relabel_validaton_curve_experiment = validation_curve_experiment(\n",
    "    \"LogisticRegression\", FairnessAwareMetaEstimator(\n",
    "        LOGISTIC_REGRESSION, relabeller=Relabeller()),\n",
    "    \"C\", LOGREG_L2_PARAM, update_relabeller)"
   ]
  },
  {
   "cell_type": "code",
   "execution_count": 45,
   "metadata": {},
   "outputs": [
    {
     "data": {
      "image/png": "[encoded data removed]",
      "text/plain": [
       "<Figure size 455.375x540 with 6 Axes>"
      ]
     },
     "metadata": {},
     "output_type": "display_data"
    }
   ],
   "source": [
    "def validation_curve_plot(x, y, **kwargs):\n",
    "    ax = plt.gca()\n",
    "    lw = 2.5\n",
    "    data = kwargs.pop(\"data\")\n",
    "    train_data = data.query(\"fold_type == 'train'\")\n",
    "    test_data = data.query(\"fold_type == 'test'\")\n",
    "    grp_data_train = train_data.groupby(x)\n",
    "    grp_data_test = test_data.groupby(x)\n",
    "    mean_data_train = grp_data_train[y].mean()\n",
    "    mean_data_test = grp_data_test[y].mean()\n",
    "    std_data_train = grp_data_train[y].std()\n",
    "    std_data_test = grp_data_test[y].std()\n",
    "    ax.semilogx(mean_data_train.index, mean_data_train,\n",
    "                label=\"train\", color=\"#848484\", lw=lw)\n",
    "    ax.semilogx(mean_data_test.index, mean_data_test,\n",
    "                label=\"test\", color=\"#ae33bf\", lw=lw)\n",
    "    # # Add error region\n",
    "    ax.fill_between(mean_data_train.index, mean_data_train - std_data_train,\n",
    "                    mean_data_train + std_data_train, alpha=0.2,\n",
    "                    color=\"darkorange\", lw=lw)\n",
    "    ax.fill_between(mean_data_test.index, mean_data_test - std_data_test,\n",
    "                    mean_data_test + std_data_test, alpha=0.1,\n",
    "                    color=\"navy\", lw=lw)\n",
    "\n",
    "relabel_validaton_curve_experiment_df = (\n",
    "    relabel_validaton_curve_experiment\n",
    "    .pipe(pd.melt,\n",
    "          id_vars=[\"protected_class\", \"estimator\", \"cv_fold\", \"fold_type\",\n",
    "                   \"C\"],\n",
    "          value_vars=[\"auc\", \"mean_diff\"],\n",
    "          var_name=\"metric\", value_name=\"score\")\n",
    "    .assign(\n",
    "        protected_class=lambda df: df.protected_class.str.replace(\"_\", \" \"),\n",
    "        metric=lambda df: df.metric.str.replace(\"_\", \" \"))\n",
    "    .rename(columns={\"score\": \"mean score\"})\n",
    ")\n",
    "\n",
    "# relabel_validaton_curve_experiment_df\n",
    "g = sns.FacetGrid(\n",
    "    relabel_validaton_curve_experiment_df,\n",
    "    row=\"protected_class\",\n",
    "    col=\"metric\", size=2.5, aspect=1.1, sharey=False,\n",
    "    margin_titles=False)\n",
    "g = g.map_dataframe(validation_curve_plot, \"C\", \"mean score\")\n",
    "g.set_titles(template=\"{row_name}, {col_name}\")\n",
    "# g.add_legend()\n",
    "# g.add_legend(bbox_to_anchor=(0.275, 0.91))\n",
    "g.add_legend(bbox_to_anchor=(0.28, 0.9))\n",
    "g.fig.tight_layout()\n",
    "g.savefig(\"logistic_regression_validation_curve1.png\");\n"
   ]
  },
  {
   "cell_type": "markdown",
   "metadata": {},
   "source": [
    "## Fairness-aware Method: Reject-option Classification¶"
   ]
  },
  {
   "cell_type": "code",
   "execution_count": 142,
   "metadata": {},
   "outputs": [
    {
     "name": "stdout",
     "output_type": "stream",
     "text": [
      " Training models: protected_class = female\n",
      "-----------------------------------------\n",
      "LogisticRegression, fold: 0 1 2 3 4 5 6 7 8 9 10 11 12 13 14 15 16 17 18 19 20 21 22 23 24 25 26 27 28 29 30 31 32 33 34 35 36 37 38 39 40 41 42 43 44 45 46 47 48 49 \n",
      "DecisionTree, fold: 0 1 2 3 4 5 6 7 8 9 10 11 12 13 14 15 16 17 18 19 20 21 22 23 24 25 26 27 28 29 30 31 32 33 34 35 36 37 38 39 40 41 42 43 44 45 46 47 48 49 \n",
      "RandomForest, fold: 0 1 2 3 4 5 6 7 8 9 10 11 12 13 14 15 16 17 18 19 20 21 22 23 24 25 26 27 28 29 30 31 32 33 34 35 36 37 38 39 40 41 42 43 44 45 46 47 48 49 \n",
      "\n",
      "Training models: protected_class = black\n",
      "----------------------------------------\n",
      "LogisticRegression, fold: 0 1 2 3 4 5 6 7 8 9 10 11 12 13 14 15 16 17 18 19 20 21 22 23 24 25 26 27 28 29 30 31 32 33 34 35 36 37 38 39 40 41 42 43 44 45 46 47 48 49 \n",
      "DecisionTree, fold: 0 1 2 3 4 5 6 7 8 9 10 11 12 13 14 15 16 17 18 19 20 21 22 23 24 25 26 27 28 29 30 31 32 33 34 35 36 37 38 39 40 41 42 43 44 45 46 47 48 49 \n",
      "RandomForest, fold: 0 1 2 3 4 5 6 7 8 9 10 11 12 13 14 15 16 17 18 19 20 21 22 23 24 25 26 27 28 29 30 31 32 33 34 35 36 37 38 39 40 41 42 43 44 45 46 47 48 49 \n",
      "\n",
      "Training models: protected_class = american_indian\n",
      "--------------------------------------------------\n",
      "LogisticRegression, fold: 0 1 2 3 4 5 6 7 8 9 10 11 12 13 14 15 16 17 18 19 20 21 22 23 24 25 26 27 28 29 30 31 32 33 34 35 36 37 38 39 40 41 42 43 44 45 46 47 48 49 \n",
      "DecisionTree, fold: 0 1 2 3 4 5 6 7 8 9 10 11 12 13 14 15 16 17 18 19 20 21 22 23 24 25 26 27 28 29 30 31 32 33 34 35 36 37 38 39 40 41 42 43 44 45 46 47 48 49 \n",
      "RandomForest, fold: 0 1 2 3 4 5 6 7 8 9 10 11 12 13 14 15 16 17 18 19 20 21 22 23 24 25 26 27 28 29 30 31 32 33 34 35 36 37 38 39 40 41 42 43 44 45 46 47 48 49 \n",
      "\n",
      "Training models: protected_class = hispanic\n",
      "-------------------------------------------\n",
      "LogisticRegression, fold: 0 1 2 3 4 5 6 7 8 9 10 11 12 13 14 15 16 17 18 19 20 21 22 23 24 25 26 27 28 29 30 31 32 33 34 35 36 37 38 39 40 41 42 43 44 45 46 47 48 49 \n",
      "DecisionTree, fold: 0 1 2 3 4 5 6 7 8 9 10 11 12 13 14 15 16 17 18 19 20 21 22 23 24 25 26 27 28 29 30 31 32 33 34 35 36 37 38 39 40 41 42 43 44 45 46 47 48 49 \n",
      "RandomForest, fold: 0 1 2 3 4 5 6 7 8 9 10 11 12 13 14 15 16 17 18 19 20 21 22 23 24 25 26 27 28 29 30 31 32 33 34 35 36 37 38 39 40 41 42 43 44 45 46 47 48 49 \n",
      "\n"
     ]
    }
   ],
   "source": [
    "from themis_ml.postprocessing.reject_option_classification import \\\n",
    "    SingleROClassifier\n",
    "\n",
    "# use the estimators defined above to define the linear additive\n",
    "# counterfactually fair models\n",
    "single_roc_clf_estimators = [\n",
    "    (name, SingleROClassifier(estimator=e))\n",
    "    for name, e in estimators]\n",
    "\n",
    "experiment_single_roc_female = cross_validation_experiment(\n",
    "    single_roc_clf_estimators, X_no_sex, y, s_female, \"female\")\n",
    "experiment_single_roc_black = cross_validation_experiment(\n",
    "    single_roc_clf_estimators, X_no_race, y, s_black, \"black\")\n",
    "experiment_single_roc_american_indian = cross_validation_experiment(\n",
    "    single_roc_clf_estimators, X_no_race, y, s_american_indian, \"american_indian\")\n",
    "experiment_single_roc_hispanic = cross_validation_experiment(\n",
    "    single_roc_clf_estimators, X_no_hispanic, y, s_hispanic, \"hispanic\")"
   ]
  },
  {
   "cell_type": "code",
   "execution_count": 143,
   "metadata": {},
   "outputs": [
    {
     "data": {
      "text/html": [
       "<div>\n",
       "<style scoped>\n",
       "    .dataframe tbody tr th:only-of-type {\n",
       "        vertical-align: middle;\n",
       "    }\n",
       "\n",
       "    .dataframe tbody tr th {\n",
       "        vertical-align: top;\n",
       "    }\n",
       "\n",
       "    .dataframe thead th {\n",
       "        text-align: right;\n",
       "    }\n",
       "</style>\n",
       "<table border=\"1\" class=\"dataframe\">\n",
       "  <thead>\n",
       "    <tr style=\"text-align: right;\">\n",
       "      <th></th>\n",
       "      <th></th>\n",
       "      <th></th>\n",
       "      <th>auc</th>\n",
       "      <th>mean_diff</th>\n",
       "      <th>norm_mean_diff</th>\n",
       "    </tr>\n",
       "    <tr>\n",
       "      <th>protected_class</th>\n",
       "      <th>estimator</th>\n",
       "      <th>fold_type</th>\n",
       "      <th></th>\n",
       "      <th></th>\n",
       "      <th></th>\n",
       "    </tr>\n",
       "  </thead>\n",
       "  <tbody>\n",
       "    <tr>\n",
       "      <th rowspan=\"3\" valign=\"top\">american_indian</th>\n",
       "      <th>DecisionTree</th>\n",
       "      <th>test</th>\n",
       "      <td>0.894127</td>\n",
       "      <td>0.098983</td>\n",
       "      <td>0.139125</td>\n",
       "    </tr>\n",
       "    <tr>\n",
       "      <th>LogisticRegression</th>\n",
       "      <th>test</th>\n",
       "      <td>0.898464</td>\n",
       "      <td>0.107929</td>\n",
       "      <td>0.179902</td>\n",
       "    </tr>\n",
       "    <tr>\n",
       "      <th>RandomForest</th>\n",
       "      <th>test</th>\n",
       "      <td>0.914000</td>\n",
       "      <td>0.116116</td>\n",
       "      <td>0.180409</td>\n",
       "    </tr>\n",
       "    <tr>\n",
       "      <th rowspan=\"3\" valign=\"top\">black</th>\n",
       "      <th>DecisionTree</th>\n",
       "      <th>test</th>\n",
       "      <td>0.892937</td>\n",
       "      <td>0.164684</td>\n",
       "      <td>0.234064</td>\n",
       "    </tr>\n",
       "    <tr>\n",
       "      <th>LogisticRegression</th>\n",
       "      <th>test</th>\n",
       "      <td>0.898471</td>\n",
       "      <td>0.172687</td>\n",
       "      <td>0.275421</td>\n",
       "    </tr>\n",
       "    <tr>\n",
       "      <th>RandomForest</th>\n",
       "      <th>test</th>\n",
       "      <td>0.913843</td>\n",
       "      <td>0.173542</td>\n",
       "      <td>0.255230</td>\n",
       "    </tr>\n",
       "    <tr>\n",
       "      <th rowspan=\"3\" valign=\"top\">female</th>\n",
       "      <th>DecisionTree</th>\n",
       "      <th>test</th>\n",
       "      <td>0.895650</td>\n",
       "      <td>0.050123</td>\n",
       "      <td>0.056080</td>\n",
       "    </tr>\n",
       "    <tr>\n",
       "      <th>LogisticRegression</th>\n",
       "      <th>test</th>\n",
       "      <td>0.898413</td>\n",
       "      <td>0.067073</td>\n",
       "      <td>0.081419</td>\n",
       "    </tr>\n",
       "    <tr>\n",
       "      <th>RandomForest</th>\n",
       "      <th>test</th>\n",
       "      <td>0.914496</td>\n",
       "      <td>0.058796</td>\n",
       "      <td>0.064775</td>\n",
       "    </tr>\n",
       "    <tr>\n",
       "      <th rowspan=\"3\" valign=\"top\">hispanic</th>\n",
       "      <th>DecisionTree</th>\n",
       "      <th>test</th>\n",
       "      <td>0.895159</td>\n",
       "      <td>0.012634</td>\n",
       "      <td>0.015014</td>\n",
       "    </tr>\n",
       "    <tr>\n",
       "      <th>LogisticRegression</th>\n",
       "      <th>test</th>\n",
       "      <td>0.898382</td>\n",
       "      <td>0.024823</td>\n",
       "      <td>0.037443</td>\n",
       "    </tr>\n",
       "    <tr>\n",
       "      <th>RandomForest</th>\n",
       "      <th>test</th>\n",
       "      <td>0.914349</td>\n",
       "      <td>0.020848</td>\n",
       "      <td>0.029931</td>\n",
       "    </tr>\n",
       "  </tbody>\n",
       "</table>\n",
       "</div>"
      ],
      "text/plain": [
       "                                                   auc  mean_diff  \\\n",
       "protected_class estimator          fold_type                        \n",
       "american_indian DecisionTree       test       0.894127   0.098983   \n",
       "                LogisticRegression test       0.898464   0.107929   \n",
       "                RandomForest       test       0.914000   0.116116   \n",
       "black           DecisionTree       test       0.892937   0.164684   \n",
       "                LogisticRegression test       0.898471   0.172687   \n",
       "                RandomForest       test       0.913843   0.173542   \n",
       "female          DecisionTree       test       0.895650   0.050123   \n",
       "                LogisticRegression test       0.898413   0.067073   \n",
       "                RandomForest       test       0.914496   0.058796   \n",
       "hispanic        DecisionTree       test       0.895159   0.012634   \n",
       "                LogisticRegression test       0.898382   0.024823   \n",
       "                RandomForest       test       0.914349   0.020848   \n",
       "\n",
       "                                              norm_mean_diff  \n",
       "protected_class estimator          fold_type                  \n",
       "american_indian DecisionTree       test             0.139125  \n",
       "                LogisticRegression test             0.179902  \n",
       "                RandomForest       test             0.180409  \n",
       "black           DecisionTree       test             0.234064  \n",
       "                LogisticRegression test             0.275421  \n",
       "                RandomForest       test             0.255230  \n",
       "female          DecisionTree       test             0.056080  \n",
       "                LogisticRegression test             0.081419  \n",
       "                RandomForest       test             0.064775  \n",
       "hispanic        DecisionTree       test             0.015014  \n",
       "                LogisticRegression test             0.037443  \n",
       "                RandomForest       test             0.029931  "
      ]
     },
     "execution_count": 143,
     "metadata": {},
     "output_type": "execute_result"
    }
   ],
   "source": [
    "experiment_single_roc = pd.concat([\n",
    "    experiment_single_roc_female,\n",
    "    experiment_single_roc_black,\n",
    "    experiment_single_roc_american_indian,\n",
    "    experiment_single_roc_hispanic\n",
    "])\n",
    "experiment_single_roc_summary = summarize_experiment_results(\n",
    "    experiment_single_roc)\n",
    "experiment_single_roc_summary.query(\"fold_type == 'test'\")"
   ]
  },
  {
   "cell_type": "code",
   "execution_count": 144,
   "metadata": {},
   "outputs": [
    {
     "data": {
      "text/plain": [
       "<seaborn.axisgrid.FacetGrid at 0x1192e4e10>"
      ]
     },
     "execution_count": 144,
     "metadata": {},
     "output_type": "execute_result"
    },
    {
     "data": {
      "image/png": "[encoded data removed]",
      "text/plain": [
       "<Figure size 1036.83x504 with 4 Axes>"
      ]
     },
     "metadata": {},
     "output_type": "display_data"
    }
   ],
   "source": [
    "plot_experiment_results(experiment_single_roc)"
   ]
  },
  {
   "cell_type": "code",
   "execution_count": 146,
   "metadata": {},
   "outputs": [
    {
     "data": {
      "text/markdown": [
       "#### protected class = female:"
      ],
      "text/plain": [
       "<IPython.core.display.Markdown object>"
      ]
     },
     "metadata": {},
     "output_type": "display_data"
    },
    {
     "data": {
      "text/markdown": [
       "- best utility measured by auc (higher is better) = 0.925: RandomForest\n",
       "- best fairness measured by mean_diff (lower is better) = 0.034: DecisionTree\n"
      ],
      "text/plain": [
       "<IPython.core.display.Markdown object>"
      ]
     },
     "metadata": {},
     "output_type": "display_data"
    },
    {
     "data": {
      "text/markdown": [
       "#### protected class = black:"
      ],
      "text/plain": [
       "<IPython.core.display.Markdown object>"
      ]
     },
     "metadata": {},
     "output_type": "display_data"
    },
    {
     "data": {
      "text/markdown": [
       "- best utility measured by auc (higher is better) = 0.925: RandomForest\n",
       "- best fairness measured by mean_diff (lower is better) = 0.141: DecisionTree\n"
      ],
      "text/plain": [
       "<IPython.core.display.Markdown object>"
      ]
     },
     "metadata": {},
     "output_type": "display_data"
    },
    {
     "data": {
      "text/markdown": [
       "#### protected class = american_indian:"
      ],
      "text/plain": [
       "<IPython.core.display.Markdown object>"
      ]
     },
     "metadata": {},
     "output_type": "display_data"
    },
    {
     "data": {
      "text/markdown": [
       "- best utility measured by auc (higher is better) = 0.925: RandomForest\n",
       "- best fairness measured by mean_diff (lower is better) = 0.046: DecisionTree\n"
      ],
      "text/plain": [
       "<IPython.core.display.Markdown object>"
      ]
     },
     "metadata": {},
     "output_type": "display_data"
    },
    {
     "data": {
      "text/markdown": [
       "#### protected class = hispanic:"
      ],
      "text/plain": [
       "<IPython.core.display.Markdown object>"
      ]
     },
     "metadata": {},
     "output_type": "display_data"
    },
    {
     "data": {
      "text/markdown": [
       "- best utility measured by auc (higher is better) = 0.925: RandomForest\n",
       "- best fairness measured by mean_diff (lower is better) = 0.000: DecisionTree\n"
      ],
      "text/plain": [
       "<IPython.core.display.Markdown object>"
      ]
     },
     "metadata": {},
     "output_type": "display_data"
    }
   ],
   "source": [
    "print_best_metrics(\n",
    "    experiment_single_roc.reset_index(),\n",
    "    [\"female\", \"black\", \"american_indian\",\"hispanic\"])"
   ]
  },
  {
   "cell_type": "markdown",
   "metadata": {},
   "source": [
    "## Comparison of Fairness-aware Techniques"
   ]
  },
  {
   "cell_type": "code",
   "execution_count": 156,
   "metadata": {},
   "outputs": [
    {
     "data": {
      "text/html": [
       "<div>\n",
       "<style scoped>\n",
       "    .dataframe tbody tr th:only-of-type {\n",
       "        vertical-align: middle;\n",
       "    }\n",
       "\n",
       "    .dataframe tbody tr th {\n",
       "        vertical-align: top;\n",
       "    }\n",
       "\n",
       "    .dataframe thead th {\n",
       "        text-align: right;\n",
       "    }\n",
       "</style>\n",
       "<table border=\"1\" class=\"dataframe\">\n",
       "  <thead>\n",
       "    <tr style=\"text-align: right;\">\n",
       "      <th></th>\n",
       "      <th>protected_class</th>\n",
       "      <th>estimator</th>\n",
       "      <th>cv_fold</th>\n",
       "      <th>fold_type</th>\n",
       "      <th>auc</th>\n",
       "      <th>mean_diff</th>\n",
       "      <th>norm_mean_diff</th>\n",
       "      <th>experiment</th>\n",
       "    </tr>\n",
       "  </thead>\n",
       "  <tbody>\n",
       "    <tr>\n",
       "      <th>0</th>\n",
       "      <td>female</td>\n",
       "      <td>LogisticRegression</td>\n",
       "      <td>0</td>\n",
       "      <td>train</td>\n",
       "      <td>0.903836</td>\n",
       "      <td>0.048911</td>\n",
       "      <td>0.059350</td>\n",
       "      <td>B</td>\n",
       "    </tr>\n",
       "    <tr>\n",
       "      <th>1</th>\n",
       "      <td>female</td>\n",
       "      <td>LogisticRegression</td>\n",
       "      <td>0</td>\n",
       "      <td>test</td>\n",
       "      <td>0.903831</td>\n",
       "      <td>0.048911</td>\n",
       "      <td>0.046757</td>\n",
       "      <td>B</td>\n",
       "    </tr>\n",
       "    <tr>\n",
       "      <th>2</th>\n",
       "      <td>female</td>\n",
       "      <td>LogisticRegression</td>\n",
       "      <td>1</td>\n",
       "      <td>train</td>\n",
       "      <td>0.903552</td>\n",
       "      <td>0.045271</td>\n",
       "      <td>0.054784</td>\n",
       "      <td>B</td>\n",
       "    </tr>\n",
       "    <tr>\n",
       "      <th>3</th>\n",
       "      <td>female</td>\n",
       "      <td>LogisticRegression</td>\n",
       "      <td>1</td>\n",
       "      <td>test</td>\n",
       "      <td>0.904086</td>\n",
       "      <td>0.045271</td>\n",
       "      <td>0.086809</td>\n",
       "      <td>B</td>\n",
       "    </tr>\n",
       "    <tr>\n",
       "      <th>4</th>\n",
       "      <td>female</td>\n",
       "      <td>LogisticRegression</td>\n",
       "      <td>2</td>\n",
       "      <td>train</td>\n",
       "      <td>0.905130</td>\n",
       "      <td>0.048185</td>\n",
       "      <td>0.058266</td>\n",
       "      <td>B</td>\n",
       "    </tr>\n",
       "    <tr>\n",
       "      <th>5</th>\n",
       "      <td>female</td>\n",
       "      <td>LogisticRegression</td>\n",
       "      <td>2</td>\n",
       "      <td>test</td>\n",
       "      <td>0.890197</td>\n",
       "      <td>0.048185</td>\n",
       "      <td>0.092621</td>\n",
       "      <td>B</td>\n",
       "    </tr>\n",
       "    <tr>\n",
       "      <th>6</th>\n",
       "      <td>female</td>\n",
       "      <td>LogisticRegression</td>\n",
       "      <td>3</td>\n",
       "      <td>train</td>\n",
       "      <td>0.904031</td>\n",
       "      <td>0.048034</td>\n",
       "      <td>0.058285</td>\n",
       "      <td>B</td>\n",
       "    </tr>\n",
       "    <tr>\n",
       "      <th>7</th>\n",
       "      <td>female</td>\n",
       "      <td>LogisticRegression</td>\n",
       "      <td>3</td>\n",
       "      <td>test</td>\n",
       "      <td>0.903995</td>\n",
       "      <td>0.048034</td>\n",
       "      <td>0.045916</td>\n",
       "      <td>B</td>\n",
       "    </tr>\n",
       "    <tr>\n",
       "      <th>8</th>\n",
       "      <td>female</td>\n",
       "      <td>LogisticRegression</td>\n",
       "      <td>4</td>\n",
       "      <td>train</td>\n",
       "      <td>0.904464</td>\n",
       "      <td>0.047039</td>\n",
       "      <td>0.057025</td>\n",
       "      <td>B</td>\n",
       "    </tr>\n",
       "    <tr>\n",
       "      <th>9</th>\n",
       "      <td>female</td>\n",
       "      <td>LogisticRegression</td>\n",
       "      <td>4</td>\n",
       "      <td>test</td>\n",
       "      <td>0.899056</td>\n",
       "      <td>0.047039</td>\n",
       "      <td>0.086557</td>\n",
       "      <td>B</td>\n",
       "    </tr>\n",
       "    <tr>\n",
       "      <th>10</th>\n",
       "      <td>female</td>\n",
       "      <td>LogisticRegression</td>\n",
       "      <td>5</td>\n",
       "      <td>train</td>\n",
       "      <td>0.903213</td>\n",
       "      <td>0.048191</td>\n",
       "      <td>0.058380</td>\n",
       "      <td>B</td>\n",
       "    </tr>\n",
       "    <tr>\n",
       "      <th>11</th>\n",
       "      <td>female</td>\n",
       "      <td>LogisticRegression</td>\n",
       "      <td>5</td>\n",
       "      <td>test</td>\n",
       "      <td>0.906187</td>\n",
       "      <td>0.048191</td>\n",
       "      <td>0.051039</td>\n",
       "      <td>B</td>\n",
       "    </tr>\n",
       "    <tr>\n",
       "      <th>12</th>\n",
       "      <td>female</td>\n",
       "      <td>LogisticRegression</td>\n",
       "      <td>6</td>\n",
       "      <td>train</td>\n",
       "      <td>0.905150</td>\n",
       "      <td>0.051235</td>\n",
       "      <td>0.062024</td>\n",
       "      <td>B</td>\n",
       "    </tr>\n",
       "    <tr>\n",
       "      <th>13</th>\n",
       "      <td>female</td>\n",
       "      <td>LogisticRegression</td>\n",
       "      <td>6</td>\n",
       "      <td>test</td>\n",
       "      <td>0.894409</td>\n",
       "      <td>0.051235</td>\n",
       "      <td>0.043175</td>\n",
       "      <td>B</td>\n",
       "    </tr>\n",
       "    <tr>\n",
       "      <th>14</th>\n",
       "      <td>female</td>\n",
       "      <td>LogisticRegression</td>\n",
       "      <td>7</td>\n",
       "      <td>train</td>\n",
       "      <td>0.903715</td>\n",
       "      <td>0.049460</td>\n",
       "      <td>0.059856</td>\n",
       "      <td>B</td>\n",
       "    </tr>\n",
       "    <tr>\n",
       "      <th>15</th>\n",
       "      <td>female</td>\n",
       "      <td>LogisticRegression</td>\n",
       "      <td>7</td>\n",
       "      <td>test</td>\n",
       "      <td>0.906631</td>\n",
       "      <td>0.049460</td>\n",
       "      <td>0.061796</td>\n",
       "      <td>B</td>\n",
       "    </tr>\n",
       "    <tr>\n",
       "      <th>16</th>\n",
       "      <td>female</td>\n",
       "      <td>LogisticRegression</td>\n",
       "      <td>8</td>\n",
       "      <td>train</td>\n",
       "      <td>0.903445</td>\n",
       "      <td>0.053241</td>\n",
       "      <td>0.064446</td>\n",
       "      <td>B</td>\n",
       "    </tr>\n",
       "    <tr>\n",
       "      <th>17</th>\n",
       "      <td>female</td>\n",
       "      <td>LogisticRegression</td>\n",
       "      <td>8</td>\n",
       "      <td>test</td>\n",
       "      <td>0.904233</td>\n",
       "      <td>0.053241</td>\n",
       "      <td>0.035846</td>\n",
       "      <td>B</td>\n",
       "    </tr>\n",
       "    <tr>\n",
       "      <th>18</th>\n",
       "      <td>female</td>\n",
       "      <td>LogisticRegression</td>\n",
       "      <td>9</td>\n",
       "      <td>train</td>\n",
       "      <td>0.902336</td>\n",
       "      <td>0.050576</td>\n",
       "      <td>0.061623</td>\n",
       "      <td>B</td>\n",
       "    </tr>\n",
       "    <tr>\n",
       "      <th>19</th>\n",
       "      <td>female</td>\n",
       "      <td>LogisticRegression</td>\n",
       "      <td>9</td>\n",
       "      <td>test</td>\n",
       "      <td>0.915060</td>\n",
       "      <td>0.050576</td>\n",
       "      <td>0.041907</td>\n",
       "      <td>B</td>\n",
       "    </tr>\n",
       "    <tr>\n",
       "      <th>20</th>\n",
       "      <td>female</td>\n",
       "      <td>LogisticRegression</td>\n",
       "      <td>10</td>\n",
       "      <td>train</td>\n",
       "      <td>0.905081</td>\n",
       "      <td>0.048106</td>\n",
       "      <td>0.058132</td>\n",
       "      <td>B</td>\n",
       "    </tr>\n",
       "    <tr>\n",
       "      <th>21</th>\n",
       "      <td>female</td>\n",
       "      <td>LogisticRegression</td>\n",
       "      <td>10</td>\n",
       "      <td>test</td>\n",
       "      <td>0.893886</td>\n",
       "      <td>0.048106</td>\n",
       "      <td>0.102602</td>\n",
       "      <td>B</td>\n",
       "    </tr>\n",
       "    <tr>\n",
       "      <th>22</th>\n",
       "      <td>female</td>\n",
       "      <td>LogisticRegression</td>\n",
       "      <td>11</td>\n",
       "      <td>train</td>\n",
       "      <td>0.903662</td>\n",
       "      <td>0.053261</td>\n",
       "      <td>0.064552</td>\n",
       "      <td>B</td>\n",
       "    </tr>\n",
       "    <tr>\n",
       "      <th>23</th>\n",
       "      <td>female</td>\n",
       "      <td>LogisticRegression</td>\n",
       "      <td>11</td>\n",
       "      <td>test</td>\n",
       "      <td>0.904775</td>\n",
       "      <td>0.053261</td>\n",
       "      <td>0.030014</td>\n",
       "      <td>B</td>\n",
       "    </tr>\n",
       "    <tr>\n",
       "      <th>24</th>\n",
       "      <td>female</td>\n",
       "      <td>LogisticRegression</td>\n",
       "      <td>12</td>\n",
       "      <td>train</td>\n",
       "      <td>0.905396</td>\n",
       "      <td>0.051148</td>\n",
       "      <td>0.061811</td>\n",
       "      <td>B</td>\n",
       "    </tr>\n",
       "    <tr>\n",
       "      <th>25</th>\n",
       "      <td>female</td>\n",
       "      <td>LogisticRegression</td>\n",
       "      <td>12</td>\n",
       "      <td>test</td>\n",
       "      <td>0.890012</td>\n",
       "      <td>0.051148</td>\n",
       "      <td>0.036830</td>\n",
       "      <td>B</td>\n",
       "    </tr>\n",
       "    <tr>\n",
       "      <th>26</th>\n",
       "      <td>female</td>\n",
       "      <td>LogisticRegression</td>\n",
       "      <td>13</td>\n",
       "      <td>train</td>\n",
       "      <td>0.902847</td>\n",
       "      <td>0.048162</td>\n",
       "      <td>0.058550</td>\n",
       "      <td>B</td>\n",
       "    </tr>\n",
       "    <tr>\n",
       "      <th>27</th>\n",
       "      <td>female</td>\n",
       "      <td>LogisticRegression</td>\n",
       "      <td>13</td>\n",
       "      <td>test</td>\n",
       "      <td>0.910877</td>\n",
       "      <td>0.048162</td>\n",
       "      <td>0.070685</td>\n",
       "      <td>B</td>\n",
       "    </tr>\n",
       "    <tr>\n",
       "      <th>28</th>\n",
       "      <td>female</td>\n",
       "      <td>LogisticRegression</td>\n",
       "      <td>14</td>\n",
       "      <td>train</td>\n",
       "      <td>0.904127</td>\n",
       "      <td>0.051676</td>\n",
       "      <td>0.062633</td>\n",
       "      <td>B</td>\n",
       "    </tr>\n",
       "    <tr>\n",
       "      <th>29</th>\n",
       "      <td>female</td>\n",
       "      <td>LogisticRegression</td>\n",
       "      <td>14</td>\n",
       "      <td>test</td>\n",
       "      <td>0.898685</td>\n",
       "      <td>0.051676</td>\n",
       "      <td>0.040034</td>\n",
       "      <td>B</td>\n",
       "    </tr>\n",
       "    <tr>\n",
       "      <th>...</th>\n",
       "      <td>...</td>\n",
       "      <td>...</td>\n",
       "      <td>...</td>\n",
       "      <td>...</td>\n",
       "      <td>...</td>\n",
       "      <td>...</td>\n",
       "      <td>...</td>\n",
       "      <td>...</td>\n",
       "    </tr>\n",
       "    <tr>\n",
       "      <th>270</th>\n",
       "      <td>hispanic</td>\n",
       "      <td>RandomForest</td>\n",
       "      <td>35</td>\n",
       "      <td>train</td>\n",
       "      <td>0.947204</td>\n",
       "      <td>0.022617</td>\n",
       "      <td>0.030643</td>\n",
       "      <td>ROC</td>\n",
       "    </tr>\n",
       "    <tr>\n",
       "      <th>271</th>\n",
       "      <td>hispanic</td>\n",
       "      <td>RandomForest</td>\n",
       "      <td>35</td>\n",
       "      <td>test</td>\n",
       "      <td>0.913925</td>\n",
       "      <td>0.022617</td>\n",
       "      <td>0.027412</td>\n",
       "      <td>ROC</td>\n",
       "    </tr>\n",
       "    <tr>\n",
       "      <th>272</th>\n",
       "      <td>hispanic</td>\n",
       "      <td>RandomForest</td>\n",
       "      <td>36</td>\n",
       "      <td>train</td>\n",
       "      <td>0.946583</td>\n",
       "      <td>0.025800</td>\n",
       "      <td>0.035187</td>\n",
       "      <td>ROC</td>\n",
       "    </tr>\n",
       "    <tr>\n",
       "      <th>273</th>\n",
       "      <td>hispanic</td>\n",
       "      <td>RandomForest</td>\n",
       "      <td>36</td>\n",
       "      <td>test</td>\n",
       "      <td>0.922938</td>\n",
       "      <td>0.025800</td>\n",
       "      <td>0.005236</td>\n",
       "      <td>ROC</td>\n",
       "    </tr>\n",
       "    <tr>\n",
       "      <th>274</th>\n",
       "      <td>hispanic</td>\n",
       "      <td>RandomForest</td>\n",
       "      <td>37</td>\n",
       "      <td>train</td>\n",
       "      <td>0.945768</td>\n",
       "      <td>0.018016</td>\n",
       "      <td>0.024647</td>\n",
       "      <td>ROC</td>\n",
       "    </tr>\n",
       "    <tr>\n",
       "      <th>275</th>\n",
       "      <td>hispanic</td>\n",
       "      <td>RandomForest</td>\n",
       "      <td>37</td>\n",
       "      <td>test</td>\n",
       "      <td>0.918545</td>\n",
       "      <td>0.018016</td>\n",
       "      <td>0.003545</td>\n",
       "      <td>ROC</td>\n",
       "    </tr>\n",
       "    <tr>\n",
       "      <th>276</th>\n",
       "      <td>hispanic</td>\n",
       "      <td>RandomForest</td>\n",
       "      <td>38</td>\n",
       "      <td>train</td>\n",
       "      <td>0.946593</td>\n",
       "      <td>0.021958</td>\n",
       "      <td>0.029899</td>\n",
       "      <td>ROC</td>\n",
       "    </tr>\n",
       "    <tr>\n",
       "      <th>277</th>\n",
       "      <td>hispanic</td>\n",
       "      <td>RandomForest</td>\n",
       "      <td>38</td>\n",
       "      <td>test</td>\n",
       "      <td>0.911085</td>\n",
       "      <td>0.021958</td>\n",
       "      <td>-0.004782</td>\n",
       "      <td>ROC</td>\n",
       "    </tr>\n",
       "    <tr>\n",
       "      <th>278</th>\n",
       "      <td>hispanic</td>\n",
       "      <td>RandomForest</td>\n",
       "      <td>39</td>\n",
       "      <td>train</td>\n",
       "      <td>0.946271</td>\n",
       "      <td>0.021622</td>\n",
       "      <td>0.029415</td>\n",
       "      <td>ROC</td>\n",
       "    </tr>\n",
       "    <tr>\n",
       "      <th>279</th>\n",
       "      <td>hispanic</td>\n",
       "      <td>RandomForest</td>\n",
       "      <td>39</td>\n",
       "      <td>test</td>\n",
       "      <td>0.910154</td>\n",
       "      <td>0.021622</td>\n",
       "      <td>0.010358</td>\n",
       "      <td>ROC</td>\n",
       "    </tr>\n",
       "    <tr>\n",
       "      <th>280</th>\n",
       "      <td>hispanic</td>\n",
       "      <td>RandomForest</td>\n",
       "      <td>40</td>\n",
       "      <td>train</td>\n",
       "      <td>0.947052</td>\n",
       "      <td>0.015111</td>\n",
       "      <td>0.020559</td>\n",
       "      <td>ROC</td>\n",
       "    </tr>\n",
       "    <tr>\n",
       "      <th>281</th>\n",
       "      <td>hispanic</td>\n",
       "      <td>RandomForest</td>\n",
       "      <td>40</td>\n",
       "      <td>test</td>\n",
       "      <td>0.908110</td>\n",
       "      <td>0.015111</td>\n",
       "      <td>0.086100</td>\n",
       "      <td>ROC</td>\n",
       "    </tr>\n",
       "    <tr>\n",
       "      <th>282</th>\n",
       "      <td>hispanic</td>\n",
       "      <td>RandomForest</td>\n",
       "      <td>41</td>\n",
       "      <td>train</td>\n",
       "      <td>0.946370</td>\n",
       "      <td>0.022541</td>\n",
       "      <td>0.030675</td>\n",
       "      <td>ROC</td>\n",
       "    </tr>\n",
       "    <tr>\n",
       "      <th>283</th>\n",
       "      <td>hispanic</td>\n",
       "      <td>RandomForest</td>\n",
       "      <td>41</td>\n",
       "      <td>test</td>\n",
       "      <td>0.915821</td>\n",
       "      <td>0.022541</td>\n",
       "      <td>0.013269</td>\n",
       "      <td>ROC</td>\n",
       "    </tr>\n",
       "    <tr>\n",
       "      <th>284</th>\n",
       "      <td>hispanic</td>\n",
       "      <td>RandomForest</td>\n",
       "      <td>42</td>\n",
       "      <td>train</td>\n",
       "      <td>0.946649</td>\n",
       "      <td>0.015733</td>\n",
       "      <td>0.021434</td>\n",
       "      <td>ROC</td>\n",
       "    </tr>\n",
       "    <tr>\n",
       "      <th>285</th>\n",
       "      <td>hispanic</td>\n",
       "      <td>RandomForest</td>\n",
       "      <td>42</td>\n",
       "      <td>test</td>\n",
       "      <td>0.919626</td>\n",
       "      <td>0.015733</td>\n",
       "      <td>0.051589</td>\n",
       "      <td>ROC</td>\n",
       "    </tr>\n",
       "    <tr>\n",
       "      <th>286</th>\n",
       "      <td>hispanic</td>\n",
       "      <td>RandomForest</td>\n",
       "      <td>43</td>\n",
       "      <td>train</td>\n",
       "      <td>0.947306</td>\n",
       "      <td>0.019318</td>\n",
       "      <td>0.026193</td>\n",
       "      <td>ROC</td>\n",
       "    </tr>\n",
       "    <tr>\n",
       "      <th>287</th>\n",
       "      <td>hispanic</td>\n",
       "      <td>RandomForest</td>\n",
       "      <td>43</td>\n",
       "      <td>test</td>\n",
       "      <td>0.908899</td>\n",
       "      <td>0.019318</td>\n",
       "      <td>0.010975</td>\n",
       "      <td>ROC</td>\n",
       "    </tr>\n",
       "    <tr>\n",
       "      <th>288</th>\n",
       "      <td>hispanic</td>\n",
       "      <td>RandomForest</td>\n",
       "      <td>44</td>\n",
       "      <td>train</td>\n",
       "      <td>0.946344</td>\n",
       "      <td>0.017900</td>\n",
       "      <td>0.024202</td>\n",
       "      <td>ROC</td>\n",
       "    </tr>\n",
       "    <tr>\n",
       "      <th>289</th>\n",
       "      <td>hispanic</td>\n",
       "      <td>RandomForest</td>\n",
       "      <td>44</td>\n",
       "      <td>test</td>\n",
       "      <td>0.912476</td>\n",
       "      <td>0.017900</td>\n",
       "      <td>0.038342</td>\n",
       "      <td>ROC</td>\n",
       "    </tr>\n",
       "    <tr>\n",
       "      <th>290</th>\n",
       "      <td>hispanic</td>\n",
       "      <td>RandomForest</td>\n",
       "      <td>45</td>\n",
       "      <td>train</td>\n",
       "      <td>0.946865</td>\n",
       "      <td>0.025459</td>\n",
       "      <td>0.034615</td>\n",
       "      <td>ROC</td>\n",
       "    </tr>\n",
       "    <tr>\n",
       "      <th>291</th>\n",
       "      <td>hispanic</td>\n",
       "      <td>RandomForest</td>\n",
       "      <td>45</td>\n",
       "      <td>test</td>\n",
       "      <td>0.914111</td>\n",
       "      <td>0.025459</td>\n",
       "      <td>0.015930</td>\n",
       "      <td>ROC</td>\n",
       "    </tr>\n",
       "    <tr>\n",
       "      <th>292</th>\n",
       "      <td>hispanic</td>\n",
       "      <td>RandomForest</td>\n",
       "      <td>46</td>\n",
       "      <td>train</td>\n",
       "      <td>0.946610</td>\n",
       "      <td>0.027549</td>\n",
       "      <td>0.037383</td>\n",
       "      <td>ROC</td>\n",
       "    </tr>\n",
       "    <tr>\n",
       "      <th>293</th>\n",
       "      <td>hispanic</td>\n",
       "      <td>RandomForest</td>\n",
       "      <td>46</td>\n",
       "      <td>test</td>\n",
       "      <td>0.919736</td>\n",
       "      <td>0.027549</td>\n",
       "      <td>-0.021744</td>\n",
       "      <td>ROC</td>\n",
       "    </tr>\n",
       "    <tr>\n",
       "      <th>294</th>\n",
       "      <td>hispanic</td>\n",
       "      <td>RandomForest</td>\n",
       "      <td>47</td>\n",
       "      <td>train</td>\n",
       "      <td>0.947022</td>\n",
       "      <td>0.018759</td>\n",
       "      <td>0.025585</td>\n",
       "      <td>ROC</td>\n",
       "    </tr>\n",
       "    <tr>\n",
       "      <th>295</th>\n",
       "      <td>hispanic</td>\n",
       "      <td>RandomForest</td>\n",
       "      <td>47</td>\n",
       "      <td>test</td>\n",
       "      <td>0.924741</td>\n",
       "      <td>0.018759</td>\n",
       "      <td>0.029079</td>\n",
       "      <td>ROC</td>\n",
       "    </tr>\n",
       "    <tr>\n",
       "      <th>296</th>\n",
       "      <td>hispanic</td>\n",
       "      <td>RandomForest</td>\n",
       "      <td>48</td>\n",
       "      <td>train</td>\n",
       "      <td>0.946438</td>\n",
       "      <td>0.023473</td>\n",
       "      <td>0.031800</td>\n",
       "      <td>ROC</td>\n",
       "    </tr>\n",
       "    <tr>\n",
       "      <th>297</th>\n",
       "      <td>hispanic</td>\n",
       "      <td>RandomForest</td>\n",
       "      <td>48</td>\n",
       "      <td>test</td>\n",
       "      <td>0.917578</td>\n",
       "      <td>0.023473</td>\n",
       "      <td>0.038986</td>\n",
       "      <td>ROC</td>\n",
       "    </tr>\n",
       "    <tr>\n",
       "      <th>298</th>\n",
       "      <td>hispanic</td>\n",
       "      <td>RandomForest</td>\n",
       "      <td>49</td>\n",
       "      <td>train</td>\n",
       "      <td>0.947535</td>\n",
       "      <td>0.018229</td>\n",
       "      <td>0.024723</td>\n",
       "      <td>ROC</td>\n",
       "    </tr>\n",
       "    <tr>\n",
       "      <th>299</th>\n",
       "      <td>hispanic</td>\n",
       "      <td>RandomForest</td>\n",
       "      <td>49</td>\n",
       "      <td>test</td>\n",
       "      <td>0.905967</td>\n",
       "      <td>0.018229</td>\n",
       "      <td>0.033006</td>\n",
       "      <td>ROC</td>\n",
       "    </tr>\n",
       "  </tbody>\n",
       "</table>\n",
       "<p>4800 rows × 8 columns</p>\n",
       "</div>"
      ],
      "text/plain": [
       "    protected_class           estimator  cv_fold fold_type       auc  \\\n",
       "0            female  LogisticRegression        0     train  0.903836   \n",
       "1            female  LogisticRegression        0      test  0.903831   \n",
       "2            female  LogisticRegression        1     train  0.903552   \n",
       "3            female  LogisticRegression        1      test  0.904086   \n",
       "4            female  LogisticRegression        2     train  0.905130   \n",
       "5            female  LogisticRegression        2      test  0.890197   \n",
       "6            female  LogisticRegression        3     train  0.904031   \n",
       "7            female  LogisticRegression        3      test  0.903995   \n",
       "8            female  LogisticRegression        4     train  0.904464   \n",
       "9            female  LogisticRegression        4      test  0.899056   \n",
       "10           female  LogisticRegression        5     train  0.903213   \n",
       "11           female  LogisticRegression        5      test  0.906187   \n",
       "12           female  LogisticRegression        6     train  0.905150   \n",
       "13           female  LogisticRegression        6      test  0.894409   \n",
       "14           female  LogisticRegression        7     train  0.903715   \n",
       "15           female  LogisticRegression        7      test  0.906631   \n",
       "16           female  LogisticRegression        8     train  0.903445   \n",
       "17           female  LogisticRegression        8      test  0.904233   \n",
       "18           female  LogisticRegression        9     train  0.902336   \n",
       "19           female  LogisticRegression        9      test  0.915060   \n",
       "20           female  LogisticRegression       10     train  0.905081   \n",
       "21           female  LogisticRegression       10      test  0.893886   \n",
       "22           female  LogisticRegression       11     train  0.903662   \n",
       "23           female  LogisticRegression       11      test  0.904775   \n",
       "24           female  LogisticRegression       12     train  0.905396   \n",
       "25           female  LogisticRegression       12      test  0.890012   \n",
       "26           female  LogisticRegression       13     train  0.902847   \n",
       "27           female  LogisticRegression       13      test  0.910877   \n",
       "28           female  LogisticRegression       14     train  0.904127   \n",
       "29           female  LogisticRegression       14      test  0.898685   \n",
       "..              ...                 ...      ...       ...       ...   \n",
       "270        hispanic        RandomForest       35     train  0.947204   \n",
       "271        hispanic        RandomForest       35      test  0.913925   \n",
       "272        hispanic        RandomForest       36     train  0.946583   \n",
       "273        hispanic        RandomForest       36      test  0.922938   \n",
       "274        hispanic        RandomForest       37     train  0.945768   \n",
       "275        hispanic        RandomForest       37      test  0.918545   \n",
       "276        hispanic        RandomForest       38     train  0.946593   \n",
       "277        hispanic        RandomForest       38      test  0.911085   \n",
       "278        hispanic        RandomForest       39     train  0.946271   \n",
       "279        hispanic        RandomForest       39      test  0.910154   \n",
       "280        hispanic        RandomForest       40     train  0.947052   \n",
       "281        hispanic        RandomForest       40      test  0.908110   \n",
       "282        hispanic        RandomForest       41     train  0.946370   \n",
       "283        hispanic        RandomForest       41      test  0.915821   \n",
       "284        hispanic        RandomForest       42     train  0.946649   \n",
       "285        hispanic        RandomForest       42      test  0.919626   \n",
       "286        hispanic        RandomForest       43     train  0.947306   \n",
       "287        hispanic        RandomForest       43      test  0.908899   \n",
       "288        hispanic        RandomForest       44     train  0.946344   \n",
       "289        hispanic        RandomForest       44      test  0.912476   \n",
       "290        hispanic        RandomForest       45     train  0.946865   \n",
       "291        hispanic        RandomForest       45      test  0.914111   \n",
       "292        hispanic        RandomForest       46     train  0.946610   \n",
       "293        hispanic        RandomForest       46      test  0.919736   \n",
       "294        hispanic        RandomForest       47     train  0.947022   \n",
       "295        hispanic        RandomForest       47      test  0.924741   \n",
       "296        hispanic        RandomForest       48     train  0.946438   \n",
       "297        hispanic        RandomForest       48      test  0.917578   \n",
       "298        hispanic        RandomForest       49     train  0.947535   \n",
       "299        hispanic        RandomForest       49      test  0.905967   \n",
       "\n",
       "     mean_diff  norm_mean_diff experiment  \n",
       "0     0.048911        0.059350          B  \n",
       "1     0.048911        0.046757          B  \n",
       "2     0.045271        0.054784          B  \n",
       "3     0.045271        0.086809          B  \n",
       "4     0.048185        0.058266          B  \n",
       "5     0.048185        0.092621          B  \n",
       "6     0.048034        0.058285          B  \n",
       "7     0.048034        0.045916          B  \n",
       "8     0.047039        0.057025          B  \n",
       "9     0.047039        0.086557          B  \n",
       "10    0.048191        0.058380          B  \n",
       "11    0.048191        0.051039          B  \n",
       "12    0.051235        0.062024          B  \n",
       "13    0.051235        0.043175          B  \n",
       "14    0.049460        0.059856          B  \n",
       "15    0.049460        0.061796          B  \n",
       "16    0.053241        0.064446          B  \n",
       "17    0.053241        0.035846          B  \n",
       "18    0.050576        0.061623          B  \n",
       "19    0.050576        0.041907          B  \n",
       "20    0.048106        0.058132          B  \n",
       "21    0.048106        0.102602          B  \n",
       "22    0.053261        0.064552          B  \n",
       "23    0.053261        0.030014          B  \n",
       "24    0.051148        0.061811          B  \n",
       "25    0.051148        0.036830          B  \n",
       "26    0.048162        0.058550          B  \n",
       "27    0.048162        0.070685          B  \n",
       "28    0.051676        0.062633          B  \n",
       "29    0.051676        0.040034          B  \n",
       "..         ...             ...        ...  \n",
       "270   0.022617        0.030643        ROC  \n",
       "271   0.022617        0.027412        ROC  \n",
       "272   0.025800        0.035187        ROC  \n",
       "273   0.025800        0.005236        ROC  \n",
       "274   0.018016        0.024647        ROC  \n",
       "275   0.018016        0.003545        ROC  \n",
       "276   0.021958        0.029899        ROC  \n",
       "277   0.021958       -0.004782        ROC  \n",
       "278   0.021622        0.029415        ROC  \n",
       "279   0.021622        0.010358        ROC  \n",
       "280   0.015111        0.020559        ROC  \n",
       "281   0.015111        0.086100        ROC  \n",
       "282   0.022541        0.030675        ROC  \n",
       "283   0.022541        0.013269        ROC  \n",
       "284   0.015733        0.021434        ROC  \n",
       "285   0.015733        0.051589        ROC  \n",
       "286   0.019318        0.026193        ROC  \n",
       "287   0.019318        0.010975        ROC  \n",
       "288   0.017900        0.024202        ROC  \n",
       "289   0.017900        0.038342        ROC  \n",
       "290   0.025459        0.034615        ROC  \n",
       "291   0.025459        0.015930        ROC  \n",
       "292   0.027549        0.037383        ROC  \n",
       "293   0.027549       -0.021744        ROC  \n",
       "294   0.018759        0.025585        ROC  \n",
       "295   0.018759        0.029079        ROC  \n",
       "296   0.023473        0.031800        ROC  \n",
       "297   0.023473        0.038986        ROC  \n",
       "298   0.018229        0.024723        ROC  \n",
       "299   0.018229        0.033006        ROC  \n",
       "\n",
       "[4800 rows x 8 columns]"
      ]
     },
     "execution_count": 156,
     "metadata": {},
     "output_type": "execute_result"
    }
   ],
   "source": [
    "compare_experiments = (\n",
    "    pd.concat([\n",
    "        experiment_baseline.assign(experiment=\"B\"),\n",
    "        experiment_naive.assign(experiment=\"RPA\"),\n",
    "        experiment_relabel.assign(experiment=\"RTV\"),\n",
    "        #experiment_acf.assign(experiment=\"CFM\"),\n",
    "        experiment_single_roc.assign(experiment=\"ROC\")\n",
    "    ])\n",
    "    .assign(\n",
    "        protected_class=lambda df: df.protected_class.str.replace(\"_\", \" \"),\n",
    "    )\n",
    ")\n",
    "compare_experiments"
   ]
  },
  {
   "cell_type": "code",
   "execution_count": 148,
   "metadata": {},
   "outputs": [
    {
     "data": {
      "image/png": "[encoded data removed]",
      "text/plain": [
       "<Figure size 950.4x216 with 4 Axes>"
      ]
     },
     "metadata": {},
     "output_type": "display_data"
    }
   ],
   "source": [
    "comparison_palette = sns.color_palette(\"Dark2\", n_colors=8)\n",
    "\n",
    "def compare_experiment_results_multiple_model(experiment_results):\n",
    "    g = (\n",
    "        experiment_results\n",
    "        .query(\"fold_type == 'test'\")\n",
    "        .drop([\"cv_fold\"], axis=1)\n",
    "        .pipe(pd.melt, id_vars=[\"experiment\", \"protected_class\", \"estimator\",\n",
    "                                \"fold_type\"],\n",
    "              var_name=\"metric\", value_name=\"score\")\n",
    "        .assign(\n",
    "            metric=lambda df: df.metric.str.replace(\"_\", \" \"))\n",
    "        .pipe((sns.factorplot, \"data\"), y=\"experiment\",\n",
    "              x=\"score\", hue=\"metric\",\n",
    "              col=\"protected_class\", row=\"estimator\",\n",
    "              join=False, size=3, aspect=1.1, dodge=0.3,\n",
    "              palette=comparison_palette, margin_titles=True, legend=False))\n",
    "    g.set_axis_labels(\"mean score (95% CI)\")\n",
    "    for ax in g.axes.ravel():\n",
    "        ax.set_ylabel(\"\")\n",
    "        plt.setp(ax.texts, text=\"\")\n",
    "    g.set_titles(row_template=\"{row_name}\", col_template=\"{col_name}\")\n",
    "    plt.legend(title=\"metric\", loc=9, bbox_to_anchor=(-0.65, -0.4))\n",
    "    g.fig.legend(loc=9, bbox_to_anchor=(0.5, -0.3))\n",
    "    g.fig.tight_layout()\n",
    "    g.savefig(\"fairness_aware_comparison.png\", dpi=500);\n",
    "\n",
    "compare_experiment_results_multiple_model(\n",
    "    compare_experiments.query(\"estimator == 'LogisticRegression'\"));"
   ]
  },
  {
   "cell_type": "code",
   "execution_count": 150,
   "metadata": {},
   "outputs": [],
   "source": [
    "from scipy import stats\n",
    "\n",
    "def compute_corr_pearson(x, y, ci=0.95):\n",
    "    corr = stats.pearsonr(x, y)\n",
    "    z = np.arctanh(corr[0])\n",
    "    sigma = (1 / ((len(x) - 3) ** 0.5))\n",
    "    cint = z + np.array([-1, 1]) * sigma * stats.norm.ppf((1 + ci ) / 2)\n",
    "    return corr, np.tanh(cint)"
   ]
  },
  {
   "cell_type": "code",
   "execution_count": 151,
   "metadata": {},
   "outputs": [
    {
     "data": {
      "image/png": "[encoded data removed]",
      "text/plain": [
       "<Figure size 748.8x576 with 16 Axes>"
      ]
     },
     "metadata": {},
     "output_type": "display_data"
    }
   ],
   "source": [
    "black_palette = sns.color_palette([\"#222222\"])\n",
    "\n",
    "def plot_utility_fairness_tradeoff(x, y, **kwargs):\n",
    "    ax = plt.gca()\n",
    "    data = kwargs.pop(\"data\")\n",
    "    sns_ax = sns.regplot(x=x, y=y, data=data, scatter_kws={'alpha':0.5},\n",
    "                         **kwargs)\n",
    "    (corr, p_val), ci = compute_corr_pearson(data[x], data[y])\n",
    "    r_text = 'r = %0.02f (%0.02f, %0.02f)' % \\\n",
    "        (corr, ci[0], ci[1])\n",
    "    sns_ax.annotate(\n",
    "        r_text, xy=(0.7, 0),\n",
    "        xytext=(0.07, 0.91),\n",
    "        textcoords='axes fraction',\n",
    "        fontweight=\"bold\",\n",
    "        fontsize=9,\n",
    "        color=\"gray\"\n",
    "    )\n",
    "    bottom_padding = 0.05\n",
    "    top_padding = 0.5\n",
    "    ylim = (data[y].min() - bottom_padding, data[y].max() + top_padding)\n",
    "    sns_ax.set_ylim(*ylim)\n",
    "\n",
    "\n",
    "g = sns.FacetGrid(\n",
    "    (\n",
    "        compare_experiments\n",
    "        .drop(\"cv_fold\", axis=1)\n",
    "        .reset_index()\n",
    "        .query(\"fold_type == 'test'\")\n",
    "        .rename(\n",
    "            columns={\"mean_diff\": \"mean diff\"})\n",
    "    ),\n",
    "    col=\"protected_class\",\n",
    "    row=\"experiment\",\n",
    "    hue=\"experiment\",\n",
    "    size=2.0, aspect=1.3, sharey=True,\n",
    "    palette=black_palette)\n",
    "g.map_dataframe(plot_utility_fairness_tradeoff, \"auc\", \"mean diff\")\n",
    "g.set_titles(template=\"{row_name}, {col_name}\")\n",
    "g.fig.tight_layout()\n",
    "g.savefig(\"fairness_utility_tradeoff.png\", dpi=500);"
   ]
  },
  {
   "cell_type": "code",
   "execution_count": 152,
   "metadata": {},
   "outputs": [
    {
     "data": {
      "image/png": "[encoded data removed]",
      "text/plain": [
       "<Figure size 1008x756 with 12 Axes>"
      ]
     },
     "metadata": {},
     "output_type": "display_data"
    }
   ],
   "source": [
    "g = sns.FacetGrid(\n",
    "    (\n",
    "        compare_experiments\n",
    "        .drop(\"cv_fold\", axis=1)\n",
    "        .reset_index()\n",
    "        .query(\"fold_type == 'test'\")\n",
    "        .rename(\n",
    "            columns={\"mean_diff\": \"mean diff\"})\n",
    "    ),\n",
    "    col=\"protected_class\",\n",
    "    row=\"estimator\",\n",
    "    hue=\"estimator\",\n",
    "    size=3.5, aspect=1,\n",
    "    sharey=True, sharex=False,\n",
    "    palette=black_palette)\n",
    "g.map_dataframe(plot_utility_fairness_tradeoff, \"auc\", \"mean diff\")\n",
    "g.set_titles(template=\"{row_name}, {col_name}\")\n",
    "g.fig.tight_layout()"
   ]
  }
 ],
 "metadata": {
  "kernelspec": {
   "display_name": "Python 2",
   "language": "python",
   "name": "python2"
  },
  "language_info": {
   "codemirror_mode": {
    "name": "ipython",
    "version": 2
   },
   "file_extension": ".py",
   "mimetype": "text/x-python",
   "name": "python",
   "nbconvert_exporter": "python",
   "pygments_lexer": "ipython2",
   "version": "2.7.14"
  }
 },
 "nbformat": 4,
 "nbformat_minor": 2
}
